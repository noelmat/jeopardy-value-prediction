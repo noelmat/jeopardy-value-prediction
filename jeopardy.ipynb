{
 "cells": [
  {
   "cell_type": "markdown",
   "metadata": {
    "papermill": {
     "duration": 0.031866,
     "end_time": "2021-03-17T15:40:14.762348",
     "exception": false,
     "start_time": "2021-03-17T15:40:14.730482",
     "status": "completed"
    },
    "tags": []
   },
   "source": [
    "# Imports"
   ]
  },
  {
   "cell_type": "code",
   "execution_count": 1,
   "metadata": {
    "execution": {
     "iopub.execute_input": "2021-03-17T15:40:14.826858Z",
     "iopub.status.busy": "2021-03-17T15:40:14.825864Z",
     "iopub.status.idle": "2021-03-17T15:40:38.275066Z",
     "shell.execute_reply": "2021-03-17T15:40:38.273827Z"
    },
    "papermill": {
     "duration": 23.484396,
     "end_time": "2021-03-17T15:40:38.275322",
     "exception": false,
     "start_time": "2021-03-17T15:40:14.790926",
     "status": "completed"
    },
    "tags": []
   },
   "outputs": [
    {
     "name": "stdout",
     "output_type": "stream",
     "text": [
      "Collecting en_core_web_md==2.3.1\r\n",
      "  Downloading https://github.com/explosion/spacy-models/releases/download/en_core_web_md-2.3.1/en_core_web_md-2.3.1.tar.gz (50.8 MB)\r\n",
      "\u001b[K     |████████████████████████████████| 50.8 MB 15.6 MB/s \r\n",
      "\u001b[?25hRequirement already satisfied: spacy<2.4.0,>=2.3.0 in /opt/conda/lib/python3.7/site-packages (from en_core_web_md==2.3.1) (2.3.5)\r\n",
      "Requirement already satisfied: setuptools in /opt/conda/lib/python3.7/site-packages (from spacy<2.4.0,>=2.3.0->en_core_web_md==2.3.1) (49.6.0.post20201009)\r\n",
      "Requirement already satisfied: requests<3.0.0,>=2.13.0 in /opt/conda/lib/python3.7/site-packages (from spacy<2.4.0,>=2.3.0->en_core_web_md==2.3.1) (2.25.1)\r\n",
      "Requirement already satisfied: srsly<1.1.0,>=1.0.2 in /opt/conda/lib/python3.7/site-packages (from spacy<2.4.0,>=2.3.0->en_core_web_md==2.3.1) (1.0.5)\r\n",
      "Requirement already satisfied: numpy>=1.15.0 in /opt/conda/lib/python3.7/site-packages (from spacy<2.4.0,>=2.3.0->en_core_web_md==2.3.1) (1.19.5)\r\n",
      "Requirement already satisfied: murmurhash<1.1.0,>=0.28.0 in /opt/conda/lib/python3.7/site-packages (from spacy<2.4.0,>=2.3.0->en_core_web_md==2.3.1) (1.0.5)\r\n",
      "Requirement already satisfied: catalogue<1.1.0,>=0.0.7 in /opt/conda/lib/python3.7/site-packages (from spacy<2.4.0,>=2.3.0->en_core_web_md==2.3.1) (1.0.0)\r\n",
      "Requirement already satisfied: tqdm<5.0.0,>=4.38.0 in /opt/conda/lib/python3.7/site-packages (from spacy<2.4.0,>=2.3.0->en_core_web_md==2.3.1) (4.55.1)\r\n",
      "Requirement already satisfied: plac<1.2.0,>=0.9.6 in /opt/conda/lib/python3.7/site-packages (from spacy<2.4.0,>=2.3.0->en_core_web_md==2.3.1) (1.1.3)\r\n",
      "Requirement already satisfied: blis<0.8.0,>=0.4.0 in /opt/conda/lib/python3.7/site-packages (from spacy<2.4.0,>=2.3.0->en_core_web_md==2.3.1) (0.7.4)\r\n",
      "Requirement already satisfied: preshed<3.1.0,>=3.0.2 in /opt/conda/lib/python3.7/site-packages (from spacy<2.4.0,>=2.3.0->en_core_web_md==2.3.1) (3.0.5)\r\n",
      "Requirement already satisfied: wasabi<1.1.0,>=0.4.0 in /opt/conda/lib/python3.7/site-packages (from spacy<2.4.0,>=2.3.0->en_core_web_md==2.3.1) (0.8.2)\r\n",
      "Requirement already satisfied: thinc<7.5.0,>=7.4.1 in /opt/conda/lib/python3.7/site-packages (from spacy<2.4.0,>=2.3.0->en_core_web_md==2.3.1) (7.4.5)\r\n",
      "Requirement already satisfied: cymem<2.1.0,>=2.0.2 in /opt/conda/lib/python3.7/site-packages (from spacy<2.4.0,>=2.3.0->en_core_web_md==2.3.1) (2.0.5)\r\n",
      "Requirement already satisfied: importlib-metadata>=0.20 in /opt/conda/lib/python3.7/site-packages (from catalogue<1.1.0,>=0.0.7->spacy<2.4.0,>=2.3.0->en_core_web_md==2.3.1) (3.3.0)\r\n",
      "Requirement already satisfied: typing-extensions>=3.6.4 in /opt/conda/lib/python3.7/site-packages (from importlib-metadata>=0.20->catalogue<1.1.0,>=0.0.7->spacy<2.4.0,>=2.3.0->en_core_web_md==2.3.1) (3.7.4.3)\r\n",
      "Requirement already satisfied: zipp>=0.5 in /opt/conda/lib/python3.7/site-packages (from importlib-metadata>=0.20->catalogue<1.1.0,>=0.0.7->spacy<2.4.0,>=2.3.0->en_core_web_md==2.3.1) (3.4.0)\r\n",
      "Requirement already satisfied: certifi>=2017.4.17 in /opt/conda/lib/python3.7/site-packages (from requests<3.0.0,>=2.13.0->spacy<2.4.0,>=2.3.0->en_core_web_md==2.3.1) (2020.12.5)\r\n",
      "Requirement already satisfied: urllib3<1.27,>=1.21.1 in /opt/conda/lib/python3.7/site-packages (from requests<3.0.0,>=2.13.0->spacy<2.4.0,>=2.3.0->en_core_web_md==2.3.1) (1.26.2)\r\n",
      "Requirement already satisfied: chardet<5,>=3.0.2 in /opt/conda/lib/python3.7/site-packages (from requests<3.0.0,>=2.13.0->spacy<2.4.0,>=2.3.0->en_core_web_md==2.3.1) (3.0.4)\r\n",
      "Requirement already satisfied: idna<3,>=2.5 in /opt/conda/lib/python3.7/site-packages (from requests<3.0.0,>=2.13.0->spacy<2.4.0,>=2.3.0->en_core_web_md==2.3.1) (2.10)\r\n",
      "Building wheels for collected packages: en-core-web-md\r\n",
      "  Building wheel for en-core-web-md (setup.py) ... \u001b[?25l-\b \b\\\b \b|\b \b/\b \b-\b \b\\\b \b|\b \b/\b \b-\b \b\\\b \bdone\r\n",
      "\u001b[?25h  Created wheel for en-core-web-md: filename=en_core_web_md-2.3.1-py3-none-any.whl size=50916640 sha256=ffbc443e0751632a8a4e1bb94280661fb8cec2aa9a9a8e1ee9250823357c5189\r\n",
      "  Stored in directory: /tmp/pip-ephem-wheel-cache-udde21yx/wheels/43/1d/c1/a0af68d0648debf57f875e9dda56bbac35cfc27bfa187ffc46\r\n",
      "Successfully built en-core-web-md\r\n",
      "Installing collected packages: en-core-web-md\r\n",
      "Successfully installed en-core-web-md-2.3.1\r\n",
      "\u001b[38;5;2m✔ Download and installation successful\u001b[0m\r\n",
      "You can now load the model via spacy.load('en_core_web_md')\r\n"
     ]
    }
   ],
   "source": [
    "!python -m spacy download en_core_web_md"
   ]
  },
  {
   "cell_type": "code",
   "execution_count": 2,
   "metadata": {
    "execution": {
     "iopub.execute_input": "2021-03-17T15:40:38.411753Z",
     "iopub.status.busy": "2021-03-17T15:40:38.410918Z",
     "iopub.status.idle": "2021-03-17T15:40:40.255555Z",
     "shell.execute_reply": "2021-03-17T15:40:40.254777Z"
    },
    "papermill": {
     "duration": 1.910796,
     "end_time": "2021-03-17T15:40:40.255713",
     "exception": false,
     "start_time": "2021-03-17T15:40:38.344917",
     "status": "completed"
    },
    "tags": []
   },
   "outputs": [],
   "source": [
    "import spacy\n",
    "from tqdm.notebook import tqdm\n",
    "import re\n",
    "import numpy as np\n",
    "import pandas as pd\n",
    "import seaborn as sns\n",
    "import matplotlib.pyplot as plt\n",
    "from scipy.sparse import csr_matrix\n",
    "from matplotlib import style\n",
    "from scipy.sparse import hstack\n",
    "from sklearn.metrics import classification_report\n",
    "from sklearn.linear_model import LogisticRegression\n",
    "import en_core_web_md\n",
    "from sklearn.feature_extraction.text import TfidfVectorizer\n",
    "import gc\n",
    "style.use('fivethirtyeight')"
   ]
  },
  {
   "cell_type": "code",
   "execution_count": 3,
   "metadata": {
    "execution": {
     "iopub.execute_input": "2021-03-17T15:40:40.386184Z",
     "iopub.status.busy": "2021-03-17T15:40:40.385486Z",
     "iopub.status.idle": "2021-03-17T15:40:41.880703Z",
     "shell.execute_reply": "2021-03-17T15:40:41.881253Z"
    },
    "papermill": {
     "duration": 1.56403,
     "end_time": "2021-03-17T15:40:41.881462",
     "exception": false,
     "start_time": "2021-03-17T15:40:40.317432",
     "status": "completed"
    },
    "tags": []
   },
   "outputs": [
    {
     "data": {
      "text/html": [
       "<div>\n",
       "<style scoped>\n",
       "    .dataframe tbody tr th:only-of-type {\n",
       "        vertical-align: middle;\n",
       "    }\n",
       "\n",
       "    .dataframe tbody tr th {\n",
       "        vertical-align: top;\n",
       "    }\n",
       "\n",
       "    .dataframe thead th {\n",
       "        text-align: right;\n",
       "    }\n",
       "</style>\n",
       "<table border=\"1\" class=\"dataframe\">\n",
       "  <thead>\n",
       "    <tr style=\"text-align: right;\">\n",
       "      <th></th>\n",
       "      <th>Show_Number</th>\n",
       "      <th>Air_Date</th>\n",
       "      <th>Round</th>\n",
       "      <th>Category</th>\n",
       "      <th>Value</th>\n",
       "      <th>Question</th>\n",
       "      <th>Answer</th>\n",
       "    </tr>\n",
       "  </thead>\n",
       "  <tbody>\n",
       "    <tr>\n",
       "      <th>0</th>\n",
       "      <td>4680</td>\n",
       "      <td>2004-12-31</td>\n",
       "      <td>Jeopardy!</td>\n",
       "      <td>HISTORY</td>\n",
       "      <td>$200</td>\n",
       "      <td>For the last 8 years of his life, Galileo was ...</td>\n",
       "      <td>Copernicus</td>\n",
       "    </tr>\n",
       "    <tr>\n",
       "      <th>1</th>\n",
       "      <td>4680</td>\n",
       "      <td>2004-12-31</td>\n",
       "      <td>Jeopardy!</td>\n",
       "      <td>ESPN's TOP 10 ALL-TIME ATHLETES</td>\n",
       "      <td>$200</td>\n",
       "      <td>No. 2: 1912 Olympian; football star at Carlisl...</td>\n",
       "      <td>Jim Thorpe</td>\n",
       "    </tr>\n",
       "    <tr>\n",
       "      <th>2</th>\n",
       "      <td>4680</td>\n",
       "      <td>2004-12-31</td>\n",
       "      <td>Jeopardy!</td>\n",
       "      <td>EVERYBODY TALKS ABOUT IT...</td>\n",
       "      <td>$200</td>\n",
       "      <td>The city of Yuma in this state has a record av...</td>\n",
       "      <td>Arizona</td>\n",
       "    </tr>\n",
       "    <tr>\n",
       "      <th>3</th>\n",
       "      <td>4680</td>\n",
       "      <td>2004-12-31</td>\n",
       "      <td>Jeopardy!</td>\n",
       "      <td>THE COMPANY LINE</td>\n",
       "      <td>$200</td>\n",
       "      <td>In 1963, live on \"The Art Linkletter Show\", th...</td>\n",
       "      <td>McDonald's</td>\n",
       "    </tr>\n",
       "    <tr>\n",
       "      <th>4</th>\n",
       "      <td>4680</td>\n",
       "      <td>2004-12-31</td>\n",
       "      <td>Jeopardy!</td>\n",
       "      <td>EPITAPHS &amp; TRIBUTES</td>\n",
       "      <td>$200</td>\n",
       "      <td>Signer of the Dec. of Indep., framer of the Co...</td>\n",
       "      <td>John Adams</td>\n",
       "    </tr>\n",
       "  </tbody>\n",
       "</table>\n",
       "</div>"
      ],
      "text/plain": [
       "   Show_Number   Air_Date      Round                         Category Value  \\\n",
       "0         4680 2004-12-31  Jeopardy!                          HISTORY  $200   \n",
       "1         4680 2004-12-31  Jeopardy!  ESPN's TOP 10 ALL-TIME ATHLETES  $200   \n",
       "2         4680 2004-12-31  Jeopardy!      EVERYBODY TALKS ABOUT IT...  $200   \n",
       "3         4680 2004-12-31  Jeopardy!                 THE COMPANY LINE  $200   \n",
       "4         4680 2004-12-31  Jeopardy!              EPITAPHS & TRIBUTES  $200   \n",
       "\n",
       "                                            Question      Answer  \n",
       "0  For the last 8 years of his life, Galileo was ...  Copernicus  \n",
       "1  No. 2: 1912 Olympian; football star at Carlisl...  Jim Thorpe  \n",
       "2  The city of Yuma in this state has a record av...     Arizona  \n",
       "3  In 1963, live on \"The Art Linkletter Show\", th...  McDonald's  \n",
       "4  Signer of the Dec. of Indep., framer of the Co...  John Adams  "
      ]
     },
     "execution_count": 3,
     "metadata": {},
     "output_type": "execute_result"
    }
   ],
   "source": [
    "df = pd.read_csv('/kaggle/input/200000-jeopardy-questions/JEOPARDY_CSV.csv', parse_dates=[' Air Date'], low_memory=False)\n",
    "df.columns = ['Show_Number', 'Air_Date','Round','Category','Value','Question','Answer']\n",
    "df.head()"
   ]
  },
  {
   "cell_type": "markdown",
   "metadata": {
    "papermill": {
     "duration": 0.063513,
     "end_time": "2021-03-17T15:40:42.009058",
     "exception": false,
     "start_time": "2021-03-17T15:40:41.945545",
     "status": "completed"
    },
    "tags": []
   },
   "source": [
    "# Data Cleaning"
   ]
  },
  {
   "cell_type": "markdown",
   "metadata": {
    "papermill": {
     "duration": 0.061683,
     "end_time": "2021-03-17T15:40:42.135988",
     "exception": false,
     "start_time": "2021-03-17T15:40:42.074305",
     "status": "completed"
    },
    "tags": []
   },
   "source": [
    "## 1. Value\n",
    "The value column contains string values in the format: $###. Lets convert it to integers."
   ]
  },
  {
   "cell_type": "code",
   "execution_count": 4,
   "metadata": {
    "execution": {
     "iopub.execute_input": "2021-03-17T15:40:42.268619Z",
     "iopub.status.busy": "2021-03-17T15:40:42.267561Z",
     "iopub.status.idle": "2021-03-17T15:40:42.777684Z",
     "shell.execute_reply": "2021-03-17T15:40:42.776940Z"
    },
    "papermill": {
     "duration": 0.579884,
     "end_time": "2021-03-17T15:40:42.777850",
     "exception": false,
     "start_time": "2021-03-17T15:40:42.197966",
     "status": "completed"
    },
    "tags": []
   },
   "outputs": [
    {
     "data": {
      "image/png": "[encoded data removed]",
      "text/plain": [
       "<Figure size 432x288 with 1 Axes>"
      ]
     },
     "metadata": {},
     "output_type": "display_data"
    }
   ],
   "source": [
    "def fix_value_column(x):\n",
    "    if x == 'None': return None\n",
    "    x = x[1:] \n",
    "    x = x.replace(',', '')\n",
    "    return x.strip()\n",
    "\n",
    "df.Value = df.Value.map(fix_value_column).fillna(np.nan).astype('float')\n",
    "df.Value.hist(bins=40)\n",
    "plt.show()"
   ]
  },
  {
   "cell_type": "markdown",
   "metadata": {
    "papermill": {
     "duration": 0.063913,
     "end_time": "2021-03-17T15:40:42.904692",
     "exception": false,
     "start_time": "2021-03-17T15:40:42.840779",
     "status": "completed"
    },
    "tags": []
   },
   "source": [
    "According to the data description, The value of Final Jeopardy and Tie breaker Questions are None. So lets remove them."
   ]
  },
  {
   "cell_type": "code",
   "execution_count": 5,
   "metadata": {
    "execution": {
     "iopub.execute_input": "2021-03-17T15:40:43.039632Z",
     "iopub.status.busy": "2021-03-17T15:40:43.038356Z",
     "iopub.status.idle": "2021-03-17T15:40:43.102619Z",
     "shell.execute_reply": "2021-03-17T15:40:43.103197Z"
    },
    "papermill": {
     "duration": 0.135225,
     "end_time": "2021-03-17T15:40:43.103409",
     "exception": false,
     "start_time": "2021-03-17T15:40:42.968184",
     "status": "completed"
    },
    "tags": []
   },
   "outputs": [
    {
     "name": "stdout",
     "output_type": "stream",
     "text": [
      "Rounds where value is not None:  ['Jeopardy!' 'Double Jeopardy!']\n",
      "Rounds where value is None:  ['Final Jeopardy!' 'Tiebreaker']\n"
     ]
    }
   ],
   "source": [
    "print(\"Rounds where value is not None: \",df[~df['Value'].isna()].Round.unique())\n",
    "print(\"Rounds where value is None: \",df[df['Value'].isna()].Round.unique())"
   ]
  },
  {
   "cell_type": "markdown",
   "metadata": {
    "papermill": {
     "duration": 0.063511,
     "end_time": "2021-03-17T15:40:43.231397",
     "exception": false,
     "start_time": "2021-03-17T15:40:43.167886",
     "status": "completed"
    },
    "tags": []
   },
   "source": [
    "We can drop the columns with Value nan"
   ]
  },
  {
   "cell_type": "code",
   "execution_count": 6,
   "metadata": {
    "execution": {
     "iopub.execute_input": "2021-03-17T15:40:43.365800Z",
     "iopub.status.busy": "2021-03-17T15:40:43.365079Z",
     "iopub.status.idle": "2021-03-17T15:40:43.379816Z",
     "shell.execute_reply": "2021-03-17T15:40:43.379152Z"
    },
    "papermill": {
     "duration": 0.084698,
     "end_time": "2021-03-17T15:40:43.379966",
     "exception": false,
     "start_time": "2021-03-17T15:40:43.295268",
     "status": "completed"
    },
    "tags": []
   },
   "outputs": [
    {
     "data": {
      "text/plain": [
       "Show_Number       0\n",
       "Air_Date          0\n",
       "Round             0\n",
       "Category          0\n",
       "Value          3634\n",
       "Question          0\n",
       "Answer            0\n",
       "dtype: int64"
      ]
     },
     "execution_count": 6,
     "metadata": {},
     "output_type": "execute_result"
    }
   ],
   "source": [
    "df[df['Value'].isna()].isna().sum()"
   ]
  },
  {
   "cell_type": "code",
   "execution_count": 7,
   "metadata": {
    "execution": {
     "iopub.execute_input": "2021-03-17T15:40:43.525031Z",
     "iopub.status.busy": "2021-03-17T15:40:43.524348Z",
     "iopub.status.idle": "2021-03-17T15:40:43.568970Z",
     "shell.execute_reply": "2021-03-17T15:40:43.568396Z"
    },
    "papermill": {
     "duration": 0.126671,
     "end_time": "2021-03-17T15:40:43.569148",
     "exception": false,
     "start_time": "2021-03-17T15:40:43.442477",
     "status": "completed"
    },
    "tags": []
   },
   "outputs": [],
   "source": [
    "df_clean = df[df['Round'].isin(['Jeopardy!','Double Jeopardy!'])].reset_index(drop=True)"
   ]
  },
  {
   "cell_type": "code",
   "execution_count": 8,
   "metadata": {
    "execution": {
     "iopub.execute_input": "2021-03-17T15:40:43.699732Z",
     "iopub.status.busy": "2021-03-17T15:40:43.698998Z",
     "iopub.status.idle": "2021-03-17T15:40:43.798149Z",
     "shell.execute_reply": "2021-03-17T15:40:43.798680Z"
    },
    "papermill": {
     "duration": 0.16685,
     "end_time": "2021-03-17T15:40:43.798867",
     "exception": false,
     "start_time": "2021-03-17T15:40:43.632017",
     "status": "completed"
    },
    "tags": []
   },
   "outputs": [
    {
     "data": {
      "text/plain": [
       "Show_Number    0\n",
       "Air_Date       0\n",
       "Round          0\n",
       "Category       0\n",
       "Value          0\n",
       "Question       0\n",
       "Answer         2\n",
       "dtype: int64"
      ]
     },
     "execution_count": 8,
     "metadata": {},
     "output_type": "execute_result"
    }
   ],
   "source": [
    "df_clean.isna().sum()"
   ]
  },
  {
   "cell_type": "markdown",
   "metadata": {
    "papermill": {
     "duration": 0.063862,
     "end_time": "2021-03-17T15:40:43.925869",
     "exception": false,
     "start_time": "2021-03-17T15:40:43.862007",
     "status": "completed"
    },
    "tags": []
   },
   "source": [
    "There are two Answer's that are na. Let's check what the rows are!"
   ]
  },
  {
   "cell_type": "code",
   "execution_count": 9,
   "metadata": {
    "execution": {
     "iopub.execute_input": "2021-03-17T15:40:44.083738Z",
     "iopub.status.busy": "2021-03-17T15:40:44.082651Z",
     "iopub.status.idle": "2021-03-17T15:40:44.097380Z",
     "shell.execute_reply": "2021-03-17T15:40:44.097866Z"
    },
    "papermill": {
     "duration": 0.107808,
     "end_time": "2021-03-17T15:40:44.098043",
     "exception": false,
     "start_time": "2021-03-17T15:40:43.990235",
     "status": "completed"
    },
    "tags": []
   },
   "outputs": [
    {
     "data": {
      "text/html": [
       "<div>\n",
       "<style scoped>\n",
       "    .dataframe tbody tr th:only-of-type {\n",
       "        vertical-align: middle;\n",
       "    }\n",
       "\n",
       "    .dataframe tbody tr th {\n",
       "        vertical-align: top;\n",
       "    }\n",
       "\n",
       "    .dataframe thead th {\n",
       "        text-align: right;\n",
       "    }\n",
       "</style>\n",
       "<table border=\"1\" class=\"dataframe\">\n",
       "  <thead>\n",
       "    <tr style=\"text-align: right;\">\n",
       "      <th></th>\n",
       "      <th>Show_Number</th>\n",
       "      <th>Air_Date</th>\n",
       "      <th>Round</th>\n",
       "      <th>Category</th>\n",
       "      <th>Value</th>\n",
       "      <th>Question</th>\n",
       "      <th>Answer</th>\n",
       "    </tr>\n",
       "  </thead>\n",
       "  <tbody>\n",
       "    <tr>\n",
       "      <th>93230</th>\n",
       "      <td>4346</td>\n",
       "      <td>2003-06-23</td>\n",
       "      <td>Jeopardy!</td>\n",
       "      <td>GOING \"N\"SANE</td>\n",
       "      <td>200.0</td>\n",
       "      <td>It often precedes \"and void\"</td>\n",
       "      <td>NaN</td>\n",
       "    </tr>\n",
       "    <tr>\n",
       "      <th>140899</th>\n",
       "      <td>6177</td>\n",
       "      <td>2011-06-21</td>\n",
       "      <td>Double Jeopardy!</td>\n",
       "      <td>NOTHING</td>\n",
       "      <td>400.0</td>\n",
       "      <td>This word for \"nothing\" precedes \"and void\" to...</td>\n",
       "      <td>NaN</td>\n",
       "    </tr>\n",
       "  </tbody>\n",
       "</table>\n",
       "</div>"
      ],
      "text/plain": [
       "        Show_Number   Air_Date             Round       Category  Value  \\\n",
       "93230          4346 2003-06-23         Jeopardy!  GOING \"N\"SANE  200.0   \n",
       "140899         6177 2011-06-21  Double Jeopardy!        NOTHING  400.0   \n",
       "\n",
       "                                                 Question Answer  \n",
       "93230                        It often precedes \"and void\"    NaN  \n",
       "140899  This word for \"nothing\" precedes \"and void\" to...    NaN  "
      ]
     },
     "execution_count": 9,
     "metadata": {},
     "output_type": "execute_result"
    }
   ],
   "source": [
    "df_clean[df_clean['Answer'].isna()]"
   ]
  },
  {
   "cell_type": "markdown",
   "metadata": {
    "papermill": {
     "duration": 0.063526,
     "end_time": "2021-03-17T15:40:44.225854",
     "exception": false,
     "start_time": "2021-03-17T15:40:44.162328",
     "status": "completed"
    },
    "tags": []
   },
   "source": [
    "The Question here looks like the text value for answer was `null` as the answer's seems to be null as in 'null and void'. Lets correct that."
   ]
  },
  {
   "cell_type": "code",
   "execution_count": 10,
   "metadata": {
    "execution": {
     "iopub.execute_input": "2021-03-17T15:40:44.387993Z",
     "iopub.status.busy": "2021-03-17T15:40:44.385170Z",
     "iopub.status.idle": "2021-03-17T15:40:44.432162Z",
     "shell.execute_reply": "2021-03-17T15:40:44.431491Z"
    },
    "papermill": {
     "duration": 0.142396,
     "end_time": "2021-03-17T15:40:44.432327",
     "exception": false,
     "start_time": "2021-03-17T15:40:44.289931",
     "status": "completed"
    },
    "tags": []
   },
   "outputs": [],
   "source": [
    "df_clean['Answer']=df_clean['Answer'].fillna('Null')\n",
    "df['Answer']=df['Answer'].fillna('Null')"
   ]
  },
  {
   "cell_type": "markdown",
   "metadata": {
    "papermill": {
     "duration": 0.065245,
     "end_time": "2021-03-17T15:40:44.563998",
     "exception": false,
     "start_time": "2021-03-17T15:40:44.498753",
     "status": "completed"
    },
    "tags": []
   },
   "source": [
    "A quick search on wikipedia and I found this:\n",
    "\n",
    ">The 1984 series' first-round originally ranged from `$100` to `$500` (doubled again from the second pilot), and was doubled to `$200`–`$1,000` on November 26, 2001\n",
    "\n",
    "Lets verify this"
   ]
  },
  {
   "cell_type": "markdown",
   "metadata": {
    "papermill": {
     "duration": 0.063703,
     "end_time": "2021-03-17T15:40:44.692579",
     "exception": false,
     "start_time": "2021-03-17T15:40:44.628876",
     "status": "completed"
    },
    "tags": []
   },
   "source": [
    "# Creating bins for Value"
   ]
  },
  {
   "cell_type": "code",
   "execution_count": 11,
   "metadata": {
    "execution": {
     "iopub.execute_input": "2021-03-17T15:40:44.827527Z",
     "iopub.status.busy": "2021-03-17T15:40:44.826627Z",
     "iopub.status.idle": "2021-03-17T15:40:44.830190Z",
     "shell.execute_reply": "2021-03-17T15:40:44.829673Z"
    },
    "papermill": {
     "duration": 0.073841,
     "end_time": "2021-03-17T15:40:44.830355",
     "exception": false,
     "start_time": "2021-03-17T15:40:44.756514",
     "status": "completed"
    },
    "tags": []
   },
   "outputs": [],
   "source": [
    "def create_bins(x):\n",
    "    binning_fact = np.where(x>2000, 1000, 100)\n",
    "    x = np.round(x/binning_fact) * binning_fact\n",
    "    return x"
   ]
  },
  {
   "cell_type": "code",
   "execution_count": 12,
   "metadata": {
    "execution": {
     "iopub.execute_input": "2021-03-17T15:40:44.967774Z",
     "iopub.status.busy": "2021-03-17T15:40:44.967027Z",
     "iopub.status.idle": "2021-03-17T15:40:47.967218Z",
     "shell.execute_reply": "2021-03-17T15:40:47.966477Z"
    },
    "papermill": {
     "duration": 3.07282,
     "end_time": "2021-03-17T15:40:47.967377",
     "exception": false,
     "start_time": "2021-03-17T15:40:44.894557",
     "status": "completed"
    },
    "tags": []
   },
   "outputs": [],
   "source": [
    "df_clean['Value_bins'] = df_clean['Value'].apply(create_bins)\n",
    "df_clean['Value_bins'] = df_clean['Value_bins'].clip(upper=10000)"
   ]
  },
  {
   "cell_type": "code",
   "execution_count": 13,
   "metadata": {
    "execution": {
     "iopub.execute_input": "2021-03-17T15:40:48.116471Z",
     "iopub.status.busy": "2021-03-17T15:40:48.115495Z",
     "iopub.status.idle": "2021-03-17T15:40:48.155486Z",
     "shell.execute_reply": "2021-03-17T15:40:48.156316Z"
    },
    "papermill": {
     "duration": 0.122795,
     "end_time": "2021-03-17T15:40:48.156567",
     "exception": false,
     "start_time": "2021-03-17T15:40:48.033772",
     "status": "completed"
    },
    "tags": []
   },
   "outputs": [],
   "source": [
    "before_26_Nov_2001 = df_clean[df_clean['Air_Date']<pd.to_datetime('26 Nov 2001')]\n",
    "after_26_Nov_2001 = df_clean[df_clean['Air_Date']>=pd.to_datetime('26 Nov 2001')]"
   ]
  },
  {
   "cell_type": "code",
   "execution_count": 14,
   "metadata": {
    "execution": {
     "iopub.execute_input": "2021-03-17T15:40:48.307208Z",
     "iopub.status.busy": "2021-03-17T15:40:48.306200Z",
     "iopub.status.idle": "2021-03-17T15:40:49.012373Z",
     "shell.execute_reply": "2021-03-17T15:40:49.012900Z"
    },
    "papermill": {
     "duration": 0.776136,
     "end_time": "2021-03-17T15:40:49.013082",
     "exception": false,
     "start_time": "2021-03-17T15:40:48.236946",
     "status": "completed"
    },
    "tags": []
   },
   "outputs": [
    {
     "data": {
      "image/png": "[encoded data removed]",
      "text/plain": [
       "<Figure size 864x432 with 2 Axes>"
      ]
     },
     "metadata": {},
     "output_type": "display_data"
    }
   ],
   "source": [
    "fig,axes = plt.subplots(1,2, figsize=(12,6))\n",
    "bins_before = before_26_Nov_2001['Value_bins'].value_counts()\n",
    "sns.barplot(x=bins_before.values, y=bins_before.index, orient='h',ax=axes[0])\n",
    "bins_after = after_26_Nov_2001['Value_bins'].value_counts()\n",
    "sns.barplot(x=bins_after.values, y=bins_after.index, orient='h',ax=axes[1])\n",
    "axes[0].set_title('before 26-11-2001')\n",
    "axes[1].set_title('after 26-11-2001')\n",
    "plt.show()"
   ]
  },
  {
   "cell_type": "markdown",
   "metadata": {
    "papermill": {
     "duration": 0.072807,
     "end_time": "2021-03-17T15:40:49.154531",
     "exception": false,
     "start_time": "2021-03-17T15:40:49.081724",
     "status": "completed"
    },
    "tags": []
   },
   "source": [
    "We can clearly see that the values bins have been doubled after as stated in wikipedia\n",
    "\n",
    "So what we can do is divide the Values after 26th November 2001 by 2 and use that to train the model. This will make it easier for the model to learn the relationships"
   ]
  },
  {
   "cell_type": "code",
   "execution_count": 15,
   "metadata": {
    "execution": {
     "iopub.execute_input": "2021-03-17T15:40:49.293726Z",
     "iopub.status.busy": "2021-03-17T15:40:49.292765Z",
     "iopub.status.idle": "2021-03-17T15:40:49.369940Z",
     "shell.execute_reply": "2021-03-17T15:40:49.369261Z"
    },
    "papermill": {
     "duration": 0.149018,
     "end_time": "2021-03-17T15:40:49.370085",
     "exception": false,
     "start_time": "2021-03-17T15:40:49.221067",
     "status": "completed"
    },
    "tags": []
   },
   "outputs": [],
   "source": [
    "df_clean.loc[after_26_Nov_2001.index,'Value'] = df_clean.loc[after_26_Nov_2001.index,'Value'].map(lambda x: x/2)"
   ]
  },
  {
   "cell_type": "code",
   "execution_count": 16,
   "metadata": {
    "execution": {
     "iopub.execute_input": "2021-03-17T15:40:49.508752Z",
     "iopub.status.busy": "2021-03-17T15:40:49.507918Z",
     "iopub.status.idle": "2021-03-17T15:40:49.530907Z",
     "shell.execute_reply": "2021-03-17T15:40:49.530070Z"
    },
    "papermill": {
     "duration": 0.094695,
     "end_time": "2021-03-17T15:40:49.531182",
     "exception": false,
     "start_time": "2021-03-17T15:40:49.436487",
     "status": "completed"
    },
    "tags": []
   },
   "outputs": [],
   "source": [
    "df_clean['Value_bins']=pd.cut(df_clean['Value'],[0,150,250,350,450,550,650,850,1500,2500,15000]).cat.codes"
   ]
  },
  {
   "cell_type": "code",
   "execution_count": 17,
   "metadata": {
    "execution": {
     "iopub.execute_input": "2021-03-17T15:40:49.674912Z",
     "iopub.status.busy": "2021-03-17T15:40:49.674182Z",
     "iopub.status.idle": "2021-03-17T15:40:49.708735Z",
     "shell.execute_reply": "2021-03-17T15:40:49.708045Z"
    },
    "papermill": {
     "duration": 0.109536,
     "end_time": "2021-03-17T15:40:49.708904",
     "exception": false,
     "start_time": "2021-03-17T15:40:49.599368",
     "status": "completed"
    },
    "tags": []
   },
   "outputs": [],
   "source": [
    "before_26_Nov_2001 = df_clean[df_clean['Air_Date']<pd.to_datetime('26 Nov 2001')]\n",
    "after_26_Nov_2001 = df_clean[df_clean['Air_Date']>=pd.to_datetime('26 Nov 2001')]"
   ]
  },
  {
   "cell_type": "code",
   "execution_count": 18,
   "metadata": {
    "execution": {
     "iopub.execute_input": "2021-03-17T15:40:49.870402Z",
     "iopub.status.busy": "2021-03-17T15:40:49.854599Z",
     "iopub.status.idle": "2021-03-17T15:40:50.212051Z",
     "shell.execute_reply": "2021-03-17T15:40:50.210761Z"
    },
    "papermill": {
     "duration": 0.4349,
     "end_time": "2021-03-17T15:40:50.212279",
     "exception": false,
     "start_time": "2021-03-17T15:40:49.777379",
     "status": "completed"
    },
    "tags": []
   },
   "outputs": [
    {
     "data": {
      "image/png": "[encoded data removed]",
      "text/plain": [
       "<Figure size 864x432 with 2 Axes>"
      ]
     },
     "metadata": {},
     "output_type": "display_data"
    }
   ],
   "source": [
    "fig,axes = plt.subplots(1,2, figsize=(12,6))\n",
    "bins_before = before_26_Nov_2001['Value_bins'].value_counts()\n",
    "sns.barplot(x=bins_before.values, y=bins_before.index, orient='h',ax=axes[0])\n",
    "bins_after = after_26_Nov_2001['Value_bins'].value_counts()\n",
    "sns.barplot(x=bins_after.values, y=bins_after.index, orient='h',ax=axes[1])\n",
    "axes[0].set_title('before 26-11-2001')\n",
    "axes[1].set_title('after 26-11-2001')\n",
    "plt.show()"
   ]
  },
  {
   "cell_type": "markdown",
   "metadata": {
    "papermill": {
     "duration": 0.068342,
     "end_time": "2021-03-17T15:40:50.349905",
     "exception": false,
     "start_time": "2021-03-17T15:40:50.281563",
     "status": "completed"
    },
    "tags": []
   },
   "source": [
    "We can see that the distribution now looks much better"
   ]
  },
  {
   "cell_type": "markdown",
   "metadata": {
    "papermill": {
     "duration": 0.067862,
     "end_time": "2021-03-17T15:40:50.486563",
     "exception": false,
     "start_time": "2021-03-17T15:40:50.418701",
     "status": "completed"
    },
    "tags": []
   },
   "source": [
    "# Feature Engineering"
   ]
  },
  {
   "cell_type": "markdown",
   "metadata": {
    "papermill": {
     "duration": 0.067769,
     "end_time": "2021-03-17T15:40:50.623127",
     "exception": false,
     "start_time": "2021-03-17T15:40:50.555358",
     "status": "completed"
    },
    "tags": []
   },
   "source": [
    "## 1. Processing Question"
   ]
  },
  {
   "cell_type": "code",
   "execution_count": 19,
   "metadata": {
    "execution": {
     "iopub.execute_input": "2021-03-17T15:40:50.787926Z",
     "iopub.status.busy": "2021-03-17T15:40:50.787235Z",
     "iopub.status.idle": "2021-03-17T15:40:51.489151Z",
     "shell.execute_reply": "2021-03-17T15:40:51.489780Z"
    },
    "papermill": {
     "duration": 0.79578,
     "end_time": "2021-03-17T15:40:51.489993",
     "exception": false,
     "start_time": "2021-03-17T15:40:50.694213",
     "status": "completed"
    },
    "tags": []
   },
   "outputs": [],
   "source": [
    "def cleanhtml(raw_html):\n",
    "    cleanr = re.compile('<.*?>')\n",
    "    cleantext = re.sub(cleanr, '', raw_html)\n",
    "    return cleantext\n",
    "\n",
    "df_clean['Question'] = df_clean['Question'].apply(cleanhtml)"
   ]
  },
  {
   "cell_type": "code",
   "execution_count": 20,
   "metadata": {
    "execution": {
     "iopub.execute_input": "2021-03-17T15:40:51.634229Z",
     "iopub.status.busy": "2021-03-17T15:40:51.633455Z",
     "iopub.status.idle": "2021-03-17T15:41:41.851706Z",
     "shell.execute_reply": "2021-03-17T15:41:41.851072Z"
    },
    "papermill": {
     "duration": 50.292982,
     "end_time": "2021-03-17T15:41:41.851872",
     "exception": false,
     "start_time": "2021-03-17T15:40:51.558890",
     "status": "completed"
    },
    "tags": []
   },
   "outputs": [
    {
     "data": {
      "application/vnd.jupyter.widget-view+json": {
       "model_id": "34a084bcabd842479c3bc966227142c7",
       "version_major": 2,
       "version_minor": 0
      },
      "text/plain": [
       "  0%|          | 0/213296 [00:00<?, ?it/s]"
      ]
     },
     "metadata": {},
     "output_type": "display_data"
    }
   ],
   "source": [
    "nlp = spacy.blank('en')\n",
    "corpus = [];\n",
    "\n",
    "for document in tqdm(df_clean['Question'].values):\n",
    "    article = []\n",
    "    doc = nlp(document)\n",
    "    for token in doc:\n",
    "        if not token.is_stop and not token.is_punct:\n",
    "            article.append(token.lemma_.lower())\n",
    "    corpus.append(article)"
   ]
  },
  {
   "cell_type": "markdown",
   "metadata": {
    "papermill": {
     "duration": 0.069727,
     "end_time": "2021-03-17T15:41:41.991259",
     "exception": false,
     "start_time": "2021-03-17T15:41:41.921532",
     "status": "completed"
    },
    "tags": []
   },
   "source": [
    "## 2.Answers"
   ]
  },
  {
   "cell_type": "markdown",
   "metadata": {
    "papermill": {
     "duration": 0.072818,
     "end_time": "2021-03-17T15:41:42.133518",
     "exception": false,
     "start_time": "2021-03-17T15:41:42.060700",
     "status": "completed"
    },
    "tags": []
   },
   "source": [
    "When using medium or large models in spacy, we can extract the embedding vectors from the models for the words. I will be using these embedding vectors for the answers. In case of multiple word answers, I will just take the mean of the word vectors."
   ]
  },
  {
   "cell_type": "code",
   "execution_count": 21,
   "metadata": {
    "execution": {
     "iopub.execute_input": "2021-03-17T15:41:42.336886Z",
     "iopub.status.busy": "2021-03-17T15:41:42.295688Z",
     "iopub.status.idle": "2021-03-17T16:41:45.106193Z",
     "shell.execute_reply": "2021-03-17T16:41:45.108307Z"
    },
    "papermill": {
     "duration": 3602.904669,
     "end_time": "2021-03-17T16:41:45.108553",
     "exception": false,
     "start_time": "2021-03-17T15:41:42.203884",
     "status": "completed"
    },
    "tags": []
   },
   "outputs": [
    {
     "data": {
      "application/vnd.jupyter.widget-view+json": {
       "model_id": "38a198c835844d4bbedb38b617b7c1cc",
       "version_major": 2,
       "version_minor": 0
      },
      "text/plain": [
       "  0%|          | 0/213296 [00:00<?, ?it/s]"
      ]
     },
     "metadata": {},
     "output_type": "display_data"
    },
    {
     "data": {
      "application/vnd.jupyter.widget-view+json": {
       "model_id": "0d30718140874ad09b7b665821973e6c",
       "version_major": 2,
       "version_minor": 0
      },
      "text/plain": [
       "  0%|          | 0/213296 [00:00<?, ?it/s]"
      ]
     },
     "metadata": {},
     "output_type": "display_data"
    }
   ],
   "source": [
    "nlp = en_core_web_md.load()\n",
    "def vectorize(text):\n",
    "    article = []\n",
    "    doc = nlp(text)\n",
    "    for token in doc:\n",
    "        if not token.is_stop and not token.is_punct:\n",
    "            article.append(token.vector)\n",
    "            \n",
    "    return np.vstack(article).mean(axis=0) if article else np.zeros((300,))\n",
    "answers = np.array([vectorize(answer) for answer in tqdm(df_clean['Answer'].values)])\n",
    "categories = np.array([vectorize(category) for category in tqdm(df_clean['Category'].values)])"
   ]
  },
  {
   "cell_type": "markdown",
   "metadata": {
    "papermill": {
     "duration": 0.069474,
     "end_time": "2021-03-17T16:41:45.248845",
     "exception": false,
     "start_time": "2021-03-17T16:41:45.179371",
     "status": "completed"
    },
    "tags": []
   },
   "source": [
    "## TFIDF Features"
   ]
  },
  {
   "cell_type": "code",
   "execution_count": 22,
   "metadata": {
    "execution": {
     "iopub.execute_input": "2021-03-17T16:41:45.418633Z",
     "iopub.status.busy": "2021-03-17T16:41:45.408073Z",
     "iopub.status.idle": "2021-03-17T16:41:53.613269Z",
     "shell.execute_reply": "2021-03-17T16:41:53.612669Z"
    },
    "papermill": {
     "duration": 8.295438,
     "end_time": "2021-03-17T16:41:53.613432",
     "exception": false,
     "start_time": "2021-03-17T16:41:45.317994",
     "status": "completed"
    },
    "tags": []
   },
   "outputs": [],
   "source": [
    "corpus_str = np.array([' '.join(doc) for doc in corpus])\n",
    "\n",
    "tfidf_vec = TfidfVectorizer(max_features=3000)\n",
    "tfidf_vec = tfidf_vec.fit(corpus_str)\n",
    "tfidf_features = tfidf_vec.transform(corpus_str)"
   ]
  },
  {
   "cell_type": "markdown",
   "metadata": {
    "papermill": {
     "duration": 0.092646,
     "end_time": "2021-03-17T16:41:53.776362",
     "exception": false,
     "start_time": "2021-03-17T16:41:53.683716",
     "status": "completed"
    },
    "tags": []
   },
   "source": [
    "## One hot encoding Round"
   ]
  },
  {
   "cell_type": "code",
   "execution_count": 23,
   "metadata": {
    "execution": {
     "iopub.execute_input": "2021-03-17T16:41:53.937142Z",
     "iopub.status.busy": "2021-03-17T16:41:53.936121Z",
     "iopub.status.idle": "2021-03-17T16:41:53.964203Z",
     "shell.execute_reply": "2021-03-17T16:41:53.963652Z"
    },
    "papermill": {
     "duration": 0.108458,
     "end_time": "2021-03-17T16:41:53.964354",
     "exception": false,
     "start_time": "2021-03-17T16:41:53.855896",
     "status": "completed"
    },
    "tags": []
   },
   "outputs": [],
   "source": [
    "round_ohe = pd.get_dummies(df_clean[['Round']], columns=['Round'])"
   ]
  },
  {
   "cell_type": "markdown",
   "metadata": {
    "papermill": {
     "duration": 0.070761,
     "end_time": "2021-03-17T16:41:54.105744",
     "exception": false,
     "start_time": "2021-03-17T16:41:54.034983",
     "status": "completed"
    },
    "tags": []
   },
   "source": [
    "## Splitting the Data"
   ]
  },
  {
   "cell_type": "code",
   "execution_count": 24,
   "metadata": {
    "execution": {
     "iopub.execute_input": "2021-03-17T16:41:54.251472Z",
     "iopub.status.busy": "2021-03-17T16:41:54.250460Z",
     "iopub.status.idle": "2021-03-17T16:41:54.291475Z",
     "shell.execute_reply": "2021-03-17T16:41:54.292082Z"
    },
    "papermill": {
     "duration": 0.117326,
     "end_time": "2021-03-17T16:41:54.292294",
     "exception": false,
     "start_time": "2021-03-17T16:41:54.174968",
     "status": "completed"
    },
    "tags": []
   },
   "outputs": [],
   "source": [
    "from sklearn.model_selection import StratifiedKFold\n",
    "\n",
    "cv = StratifiedKFold(n_splits=5, shuffle=True,random_state=42)\n",
    "splits = {}\n",
    "for i, (trn_idx,val_idx) in enumerate(cv.split(df_clean, df_clean['Value_bins'])):\n",
    "    splits[i] = {'train': trn_idx, 'valid': val_idx}"
   ]
  },
  {
   "cell_type": "code",
   "execution_count": 25,
   "metadata": {
    "execution": {
     "iopub.execute_input": "2021-03-17T16:41:54.445263Z",
     "iopub.status.busy": "2021-03-17T16:41:54.444215Z",
     "iopub.status.idle": "2021-03-17T16:41:54.448024Z",
     "shell.execute_reply": "2021-03-17T16:41:54.447379Z"
    },
    "papermill": {
     "duration": 0.085071,
     "end_time": "2021-03-17T16:41:54.448201",
     "exception": false,
     "start_time": "2021-03-17T16:41:54.363130",
     "status": "completed"
    },
    "tags": []
   },
   "outputs": [],
   "source": [
    "def get_data_for_split(idxs, answers=None, round_ohe=None, tfidf_features=None, categories=None):\n",
    "    split_answers = answers[idxs] if answers is not None else None\n",
    "    split_ohe = round_ohe.iloc[idxs] if round_ohe is not None else None\n",
    "    split_tfidf = tfidf_features[idxs] if tfidf_features is not None else None\n",
    "    split_categories = categories[idxs] if categories is not None else None\n",
    "    features = []\n",
    "    for feature in [split_answers, split_ohe, split_tfidf, split_categories]:\n",
    "        if feature is None:\n",
    "            continue\n",
    "        features.append(feature)\n",
    "    return hstack(features)"
   ]
  },
  {
   "cell_type": "code",
   "execution_count": 26,
   "metadata": {
    "execution": {
     "iopub.execute_input": "2021-03-17T16:41:54.597277Z",
     "iopub.status.busy": "2021-03-17T16:41:54.596202Z",
     "iopub.status.idle": "2021-03-17T16:41:54.600013Z",
     "shell.execute_reply": "2021-03-17T16:41:54.599374Z"
    },
    "papermill": {
     "duration": 0.080573,
     "end_time": "2021-03-17T16:41:54.600192",
     "exception": false,
     "start_time": "2021-03-17T16:41:54.519619",
     "status": "completed"
    },
    "tags": []
   },
   "outputs": [],
   "source": [
    "def get_labels(idxs):\n",
    "    return df_clean.iloc[idxs]['Value_bins']"
   ]
  },
  {
   "cell_type": "markdown",
   "metadata": {
    "papermill": {
     "duration": 0.07114,
     "end_time": "2021-03-17T16:41:54.742267",
     "exception": false,
     "start_time": "2021-03-17T16:41:54.671127",
     "status": "completed"
    },
    "tags": []
   },
   "source": [
    "# Modelling with Logistic Regression"
   ]
  },
  {
   "cell_type": "code",
   "execution_count": 27,
   "metadata": {
    "execution": {
     "iopub.execute_input": "2021-03-17T16:41:54.894964Z",
     "iopub.status.busy": "2021-03-17T16:41:54.893940Z",
     "iopub.status.idle": "2021-03-17T16:41:54.897491Z",
     "shell.execute_reply": "2021-03-17T16:41:54.898250Z"
    },
    "papermill": {
     "duration": 0.084659,
     "end_time": "2021-03-17T16:41:54.898461",
     "exception": false,
     "start_time": "2021-03-17T16:41:54.813802",
     "status": "completed"
    },
    "tags": []
   },
   "outputs": [],
   "source": [
    "def get_oof_predictions(**features):\n",
    "    models = {}\n",
    "    oof = np.zeros(len(df_clean))\n",
    "    for fold in tqdm(splits.keys()):\n",
    "        train_idx, valid_idx = splits[fold]['train'],splits[fold]['valid']\n",
    "        train_features = get_data_for_split(train_idx, **features)\n",
    "        valid_features = get_data_for_split(valid_idx, **features)\n",
    "        train_labels = get_labels(train_idx)\n",
    "        valid_labels = get_labels(valid_idx)\n",
    "        lr = LogisticRegression(max_iter=100, n_jobs=-1, verbose=0)\n",
    "        lr.fit(train_features, train_labels)\n",
    "        y_preds = lr.predict(valid_features)\n",
    "        oof[valid_idx] = y_preds\n",
    "        models[fold] = lr\n",
    "    return oof, models"
   ]
  },
  {
   "cell_type": "code",
   "execution_count": 28,
   "metadata": {
    "execution": {
     "iopub.execute_input": "2021-03-17T16:41:55.075415Z",
     "iopub.status.busy": "2021-03-17T16:41:55.047337Z",
     "iopub.status.idle": "2021-03-17T16:43:29.403841Z",
     "shell.execute_reply": "2021-03-17T16:43:29.403294Z"
    },
    "papermill": {
     "duration": 94.434053,
     "end_time": "2021-03-17T16:43:29.404018",
     "exception": false,
     "start_time": "2021-03-17T16:41:54.969965",
     "status": "completed"
    },
    "tags": []
   },
   "outputs": [
    {
     "data": {
      "application/vnd.jupyter.widget-view+json": {
       "model_id": "c043fe2719e74e1984eaa2a278c4fba2",
       "version_major": 2,
       "version_minor": 0
      },
      "text/plain": [
       "  0%|          | 0/5 [00:00<?, ?it/s]"
      ]
     },
     "metadata": {},
     "output_type": "display_data"
    }
   ],
   "source": [
    "oof_tfidf, models_tfidf = get_oof_predictions(tfidf_features=tfidf_features)"
   ]
  },
  {
   "cell_type": "code",
   "execution_count": 29,
   "metadata": {
    "execution": {
     "iopub.execute_input": "2021-03-17T16:43:29.554302Z",
     "iopub.status.busy": "2021-03-17T16:43:29.553596Z",
     "iopub.status.idle": "2021-03-17T16:43:30.008930Z",
     "shell.execute_reply": "2021-03-17T16:43:30.008282Z"
    },
    "papermill": {
     "duration": 0.532813,
     "end_time": "2021-03-17T16:43:30.009079",
     "exception": false,
     "start_time": "2021-03-17T16:43:29.476266",
     "status": "completed"
    },
    "tags": []
   },
   "outputs": [
    {
     "name": "stdout",
     "output_type": "stream",
     "text": [
      "###############\tOut Of Fold Metrics For TFIDF Features\t###############\n"
     ]
    },
    {
     "name": "stderr",
     "output_type": "stream",
     "text": [
      "/opt/conda/lib/python3.7/site-packages/sklearn/metrics/_classification.py:1245: UndefinedMetricWarning: Precision and F-score are ill-defined and being set to 0.0 in labels with no predicted samples. Use `zero_division` parameter to control this behavior.\n",
      "  _warn_prf(average, modifier, msg_start, len(result))\n",
      "/opt/conda/lib/python3.7/site-packages/sklearn/metrics/_classification.py:1245: UndefinedMetricWarning: Precision and F-score are ill-defined and being set to 0.0 in labels with no predicted samples. Use `zero_division` parameter to control this behavior.\n",
      "  _warn_prf(average, modifier, msg_start, len(result))\n"
     ]
    },
    {
     "name": "stdout",
     "output_type": "stream",
     "text": [
      "              precision    recall  f1-score   support\n",
      "\n",
      "           0       0.15      0.04      0.06     21784\n",
      "           1       0.21      0.50      0.30     43030\n",
      "           2       0.11      0.02      0.03     20872\n",
      "           3       0.19      0.37      0.25     41115\n",
      "           4       0.12      0.02      0.04     21840\n",
      "           5       0.11      0.01      0.02     19797\n",
      "           6       0.12      0.02      0.03     19371\n",
      "           7       0.18      0.11      0.14     23309\n",
      "           8       0.00      0.00      0.00      1562\n",
      "           9       0.00      0.00      0.00       616\n",
      "\n",
      "    accuracy                           0.20    213296\n",
      "   macro avg       0.12      0.11      0.09    213296\n",
      "weighted avg       0.16      0.20      0.14    213296\n",
      "\n",
      "########################################################\n"
     ]
    },
    {
     "name": "stderr",
     "output_type": "stream",
     "text": [
      "/opt/conda/lib/python3.7/site-packages/sklearn/metrics/_classification.py:1245: UndefinedMetricWarning: Precision and F-score are ill-defined and being set to 0.0 in labels with no predicted samples. Use `zero_division` parameter to control this behavior.\n",
      "  _warn_prf(average, modifier, msg_start, len(result))\n"
     ]
    }
   ],
   "source": [
    "print(\"###############\\tOut Of Fold Metrics For TFIDF Features\\t###############\")\n",
    "print(classification_report(df_clean['Value_bins'],oof_tfidf))\n",
    "print('#'*56)"
   ]
  },
  {
   "cell_type": "code",
   "execution_count": 30,
   "metadata": {
    "execution": {
     "iopub.execute_input": "2021-03-17T16:43:30.188424Z",
     "iopub.status.busy": "2021-03-17T16:43:30.159460Z",
     "iopub.status.idle": "2021-03-17T16:55:20.537873Z",
     "shell.execute_reply": "2021-03-17T16:55:20.536194Z"
    },
    "papermill": {
     "duration": 710.45665,
     "end_time": "2021-03-17T16:55:20.538036",
     "exception": false,
     "start_time": "2021-03-17T16:43:30.081386",
     "status": "completed"
    },
    "tags": []
   },
   "outputs": [
    {
     "data": {
      "application/vnd.jupyter.widget-view+json": {
       "model_id": "aa9962136801457db519f3e6a8f8c871",
       "version_major": 2,
       "version_minor": 0
      },
      "text/plain": [
       "  0%|          | 0/5 [00:00<?, ?it/s]"
      ]
     },
     "metadata": {},
     "output_type": "display_data"
    }
   ],
   "source": [
    "oof_qa, models_qa = get_oof_predictions(tfidf_features=tfidf_features,answers=answers)"
   ]
  },
  {
   "cell_type": "code",
   "execution_count": 31,
   "metadata": {
    "execution": {
     "iopub.execute_input": "2021-03-17T16:55:20.691640Z",
     "iopub.status.busy": "2021-03-17T16:55:20.690940Z",
     "iopub.status.idle": "2021-03-17T16:55:21.134929Z",
     "shell.execute_reply": "2021-03-17T16:55:21.135438Z"
    },
    "papermill": {
     "duration": 0.522499,
     "end_time": "2021-03-17T16:55:21.135626",
     "exception": false,
     "start_time": "2021-03-17T16:55:20.613127",
     "status": "completed"
    },
    "tags": []
   },
   "outputs": [
    {
     "name": "stdout",
     "output_type": "stream",
     "text": [
      "###############\tOut Of Fold Metrics For Question and Answers\t###############\n"
     ]
    },
    {
     "name": "stderr",
     "output_type": "stream",
     "text": [
      "/opt/conda/lib/python3.7/site-packages/sklearn/metrics/_classification.py:1245: UndefinedMetricWarning: Precision and F-score are ill-defined and being set to 0.0 in labels with no predicted samples. Use `zero_division` parameter to control this behavior.\n",
      "  _warn_prf(average, modifier, msg_start, len(result))\n",
      "/opt/conda/lib/python3.7/site-packages/sklearn/metrics/_classification.py:1245: UndefinedMetricWarning: Precision and F-score are ill-defined and being set to 0.0 in labels with no predicted samples. Use `zero_division` parameter to control this behavior.\n",
      "  _warn_prf(average, modifier, msg_start, len(result))\n"
     ]
    },
    {
     "name": "stdout",
     "output_type": "stream",
     "text": [
      "              precision    recall  f1-score   support\n",
      "\n",
      "           0       0.17      0.03      0.05     21784\n",
      "           1       0.22      0.55      0.32     43030\n",
      "           2       0.12      0.00      0.01     20872\n",
      "           3       0.20      0.37      0.26     41115\n",
      "           4       0.13      0.01      0.02     21840\n",
      "           5       0.10      0.01      0.01     19797\n",
      "           6       0.12      0.01      0.02     19371\n",
      "           7       0.20      0.17      0.19     23309\n",
      "           8       0.00      0.00      0.00      1562\n",
      "           9       0.00      0.00      0.00       616\n",
      "\n",
      "    accuracy                           0.21    213296\n",
      "   macro avg       0.13      0.12      0.09    213296\n",
      "weighted avg       0.17      0.21      0.15    213296\n",
      "\n",
      "########################################################\n"
     ]
    },
    {
     "name": "stderr",
     "output_type": "stream",
     "text": [
      "/opt/conda/lib/python3.7/site-packages/sklearn/metrics/_classification.py:1245: UndefinedMetricWarning: Precision and F-score are ill-defined and being set to 0.0 in labels with no predicted samples. Use `zero_division` parameter to control this behavior.\n",
      "  _warn_prf(average, modifier, msg_start, len(result))\n"
     ]
    }
   ],
   "source": [
    "print(\"###############\\tOut Of Fold Metrics For Question and Answers\\t###############\")\n",
    "print(classification_report(df_clean['Value_bins'],oof_qa))\n",
    "print('#'*56)"
   ]
  },
  {
   "cell_type": "code",
   "execution_count": 32,
   "metadata": {
    "execution": {
     "iopub.execute_input": "2021-03-17T16:55:21.319286Z",
     "iopub.status.busy": "2021-03-17T16:55:21.318554Z",
     "iopub.status.idle": "2021-03-17T17:07:13.509816Z",
     "shell.execute_reply": "2021-03-17T17:07:13.508138Z"
    },
    "papermill": {
     "duration": 712.299853,
     "end_time": "2021-03-17T17:07:13.509986",
     "exception": false,
     "start_time": "2021-03-17T16:55:21.210133",
     "status": "completed"
    },
    "tags": []
   },
   "outputs": [
    {
     "data": {
      "application/vnd.jupyter.widget-view+json": {
       "model_id": "510bbf334743438e8315d198383328d0",
       "version_major": 2,
       "version_minor": 0
      },
      "text/plain": [
       "  0%|          | 0/5 [00:00<?, ?it/s]"
      ]
     },
     "metadata": {},
     "output_type": "display_data"
    }
   ],
   "source": [
    "oof_qar, models_qar = get_oof_predictions(tfidf_features=tfidf_features,answers=answers,round_ohe=round_ohe)"
   ]
  },
  {
   "cell_type": "code",
   "execution_count": 33,
   "metadata": {
    "execution": {
     "iopub.execute_input": "2021-03-17T17:07:13.664655Z",
     "iopub.status.busy": "2021-03-17T17:07:13.663678Z",
     "iopub.status.idle": "2021-03-17T17:07:14.143946Z",
     "shell.execute_reply": "2021-03-17T17:07:14.144480Z"
    },
    "papermill": {
     "duration": 0.55944,
     "end_time": "2021-03-17T17:07:14.144660",
     "exception": false,
     "start_time": "2021-03-17T17:07:13.585220",
     "status": "completed"
    },
    "tags": []
   },
   "outputs": [
    {
     "name": "stdout",
     "output_type": "stream",
     "text": [
      "###############\tOut Of Fold Metrics For Question, Answers, Rounds\t###############\n",
      "              precision    recall  f1-score   support\n",
      "\n",
      "           0       0.25      0.36      0.30     21784\n",
      "           1       0.24      0.31      0.27     43030\n",
      "           2       0.20      0.13      0.16     20872\n",
      "           3       0.20      0.14      0.17     41115\n",
      "           4       0.26      0.33      0.29     21840\n",
      "           5       0.19      0.09      0.13     19797\n",
      "           6       0.19      0.09      0.12     19371\n",
      "           7       0.27      0.41      0.32     23309\n",
      "           8       0.00      0.00      0.00      1562\n",
      "           9       0.00      0.00      0.00       616\n",
      "\n",
      "    accuracy                           0.24    213296\n",
      "   macro avg       0.18      0.19      0.18    213296\n",
      "weighted avg       0.22      0.24      0.22    213296\n",
      "\n",
      "########################################################\n"
     ]
    }
   ],
   "source": [
    "print(\"###############\\tOut Of Fold Metrics For Question, Answers, Rounds\\t###############\")\n",
    "print(classification_report(df_clean['Value_bins'],oof_qar))\n",
    "print('#'*56)"
   ]
  },
  {
   "cell_type": "code",
   "execution_count": 34,
   "metadata": {
    "execution": {
     "iopub.execute_input": "2021-03-17T17:07:14.300057Z",
     "iopub.status.busy": "2021-03-17T17:07:14.299062Z",
     "iopub.status.idle": "2021-03-17T17:29:30.651002Z",
     "shell.execute_reply": "2021-03-17T17:29:30.649338Z"
    },
    "papermill": {
     "duration": 1336.430906,
     "end_time": "2021-03-17T17:29:30.651184",
     "exception": false,
     "start_time": "2021-03-17T17:07:14.220278",
     "status": "completed"
    },
    "tags": []
   },
   "outputs": [
    {
     "data": {
      "application/vnd.jupyter.widget-view+json": {
       "model_id": "d8e1d012a24b4a1e8852864f114fd888",
       "version_major": 2,
       "version_minor": 0
      },
      "text/plain": [
       "  0%|          | 0/5 [00:00<?, ?it/s]"
      ]
     },
     "metadata": {},
     "output_type": "display_data"
    }
   ],
   "source": [
    "oof_qarc, models_qarc = get_oof_predictions(tfidf_features=tfidf_features,answers=answers,round_ohe=round_ohe,categories=categories)"
   ]
  },
  {
   "cell_type": "code",
   "execution_count": 35,
   "metadata": {
    "execution": {
     "iopub.execute_input": "2021-03-17T17:29:30.812820Z",
     "iopub.status.busy": "2021-03-17T17:29:30.811842Z",
     "iopub.status.idle": "2021-03-17T17:29:31.290357Z",
     "shell.execute_reply": "2021-03-17T17:29:31.289161Z"
    },
    "papermill": {
     "duration": 0.563151,
     "end_time": "2021-03-17T17:29:31.290530",
     "exception": false,
     "start_time": "2021-03-17T17:29:30.727379",
     "status": "completed"
    },
    "tags": []
   },
   "outputs": [
    {
     "name": "stdout",
     "output_type": "stream",
     "text": [
      "###############\tOut Of Fold Metrics For Question, Answers, Rounds, Categories\t###############\n",
      "              precision    recall  f1-score   support\n",
      "\n",
      "           0       0.25      0.36      0.30     21784\n",
      "           1       0.24      0.31      0.27     43030\n",
      "           2       0.20      0.13      0.16     20872\n",
      "           3       0.20      0.14      0.17     41115\n",
      "           4       0.26      0.33      0.29     21840\n",
      "           5       0.19      0.09      0.13     19797\n",
      "           6       0.19      0.09      0.12     19371\n",
      "           7       0.27      0.41      0.32     23309\n",
      "           8       0.00      0.00      0.00      1562\n",
      "           9       0.00      0.00      0.00       616\n",
      "\n",
      "    accuracy                           0.24    213296\n",
      "   macro avg       0.18      0.19      0.18    213296\n",
      "weighted avg       0.22      0.24      0.22    213296\n",
      "\n",
      "########################################################\n"
     ]
    }
   ],
   "source": [
    "print(\"###############\\tOut Of Fold Metrics For Question, Answers, Rounds, Categories\\t###############\")\n",
    "print(classification_report(df_clean['Value_bins'],oof_qar))\n",
    "print('#'*56)"
   ]
  },
  {
   "cell_type": "code",
   "execution_count": null,
   "metadata": {
    "papermill": {
     "duration": 0.077379,
     "end_time": "2021-03-17T17:29:31.447214",
     "exception": false,
     "start_time": "2021-03-17T17:29:31.369835",
     "status": "completed"
    },
    "tags": []
   },
   "outputs": [],
   "source": []
  }
 ],
 "metadata": {
  "kernelspec": {
   "display_name": "Python 3",
   "language": "python",
   "name": "python3"
  },
  "language_info": {
   "codemirror_mode": {
    "name": "ipython",
    "version": 3
   },
   "file_extension": ".py",
   "mimetype": "text/x-python",
   "name": "python",
   "nbconvert_exporter": "python",
   "pygments_lexer": "ipython3",
   "version": "3.7.9"
  },
  "papermill": {
   "default_parameters": {},
   "duration": 6565.737703,
   "end_time": "2021-03-17T17:29:33.747440",
   "environment_variables": {},
   "exception": null,
   "input_path": "__notebook__.ipynb",
   "output_path": "__notebook__.ipynb",
   "parameters": {},
   "start_time": "2021-03-17T15:40:08.009737",
   "version": "2.2.2"
  },
  "widgets": {
   "application/vnd.jupyter.widget-state+json": {
    "state": {
     "04db62d084af4c20a4d750a7b5eed3d1": {
      "model_module": "@jupyter-widgets/base",
      "model_module_version": "1.2.0",
      "model_name": "LayoutModel",
      "state": {
       "_model_module": "@jupyter-widgets/base",
       "_model_module_version": "1.2.0",
       "_model_name": "LayoutModel",
       "_view_count": null,
       "_view_module": "@jupyter-widgets/base",
       "_view_module_version": "1.2.0",
       "_view_name": "LayoutView",
       "align_content": null,
       "align_items": null,
       "align_self": null,
       "border": null,
       "bottom": null,
       "display": null,
       "flex": null,
       "flex_flow": null,
       "grid_area": null,
       "grid_auto_columns": null,
       "grid_auto_flow": null,
       "grid_auto_rows": null,
       "grid_column": null,
       "grid_gap": null,
       "grid_row": null,
       "grid_template_areas": null,
       "grid_template_columns": null,
       "grid_template_rows": null,
       "height": null,
       "justify_content": null,
       "justify_items": null,
       "left": null,
       "margin": null,
       "max_height": null,
       "max_width": null,
       "min_height": null,
       "min_width": null,
       "object_fit": null,
       "object_position": null,
       "order": null,
       "overflow": null,
       "overflow_x": null,
       "overflow_y": null,
       "padding": null,
       "right": null,
       "top": null,
       "visibility": null,
       "width": null
      }
     },
     "06fdd8065ef34f1eb4faffd962b3d230": {
      "model_module": "@jupyter-widgets/controls",
      "model_module_version": "1.5.0",
      "model_name": "DescriptionStyleModel",
      "state": {
       "_model_module": "@jupyter-widgets/controls",
       "_model_module_version": "1.5.0",
       "_model_name": "DescriptionStyleModel",
       "_view_count": null,
       "_view_module": "@jupyter-widgets/base",
       "_view_module_version": "1.2.0",
       "_view_name": "StyleView",
       "description_width": ""
      }
     },
     "0a79e06bc0ad42ab9fb47b6e4e08c289": {
      "model_module": "@jupyter-widgets/controls",
      "model_module_version": "1.5.0",
      "model_name": "HTMLModel",
      "state": {
       "_dom_classes": [],
       "_model_module": "@jupyter-widgets/controls",
       "_model_module_version": "1.5.0",
       "_model_name": "HTMLModel",
       "_view_count": null,
       "_view_module": "@jupyter-widgets/controls",
       "_view_module_version": "1.5.0",
       "_view_name": "HTMLView",
       "description": "",
       "description_tooltip": null,
       "layout": "IPY_MODEL_2a60b58229234437aa2590f67052f548",
       "placeholder": "​",
       "style": "IPY_MODEL_1f9e63aab556451681ddd38455e49ab7",
       "value": " 5/5 [11:52&lt;00:00, 142.11s/it]"
      }
     },
     "0ccfe9c3cddd4568938f65c24d50367c": {
      "model_module": "@jupyter-widgets/controls",
      "model_module_version": "1.5.0",
      "model_name": "DescriptionStyleModel",
      "state": {
       "_model_module": "@jupyter-widgets/controls",
       "_model_module_version": "1.5.0",
       "_model_name": "DescriptionStyleModel",
       "_view_count": null,
       "_view_module": "@jupyter-widgets/base",
       "_view_module_version": "1.2.0",
       "_view_name": "StyleView",
       "description_width": ""
      }
     },
     "0d30718140874ad09b7b665821973e6c": {
      "model_module": "@jupyter-widgets/controls",
      "model_module_version": "1.5.0",
      "model_name": "HBoxModel",
      "state": {
       "_dom_classes": [],
       "_model_module": "@jupyter-widgets/controls",
       "_model_module_version": "1.5.0",
       "_model_name": "HBoxModel",
       "_view_count": null,
       "_view_module": "@jupyter-widgets/controls",
       "_view_module_version": "1.5.0",
       "_view_name": "HBoxView",
       "box_style": "",
       "children": [
        "IPY_MODEL_286f57793f1f4167b1db085efe9013ea",
        "IPY_MODEL_e5c2b8fbafb347a19cd62d7e1c738405",
        "IPY_MODEL_f983a1600ec7441697657bcbada7b6a5"
       ],
       "layout": "IPY_MODEL_13b076e8f35f4374a59a0787f3fd905c"
      }
     },
     "113dd4e6f896437289feb63116ed3606": {
      "model_module": "@jupyter-widgets/controls",
      "model_module_version": "1.5.0",
      "model_name": "DescriptionStyleModel",
      "state": {
       "_model_module": "@jupyter-widgets/controls",
       "_model_module_version": "1.5.0",
       "_model_name": "DescriptionStyleModel",
       "_view_count": null,
       "_view_module": "@jupyter-widgets/base",
       "_view_module_version": "1.2.0",
       "_view_name": "StyleView",
       "description_width": ""
      }
     },
     "12007d6239e04397b2efc1bff73f7a0e": {
      "model_module": "@jupyter-widgets/controls",
      "model_module_version": "1.5.0",
      "model_name": "FloatProgressModel",
      "state": {
       "_dom_classes": [],
       "_model_module": "@jupyter-widgets/controls",
       "_model_module_version": "1.5.0",
       "_model_name": "FloatProgressModel",
       "_view_count": null,
       "_view_module": "@jupyter-widgets/controls",
       "_view_module_version": "1.5.0",
       "_view_name": "ProgressView",
       "bar_style": "success",
       "description": "",
       "description_tooltip": null,
       "layout": "IPY_MODEL_6fc8e347c0994a379ae7bf3d9664c469",
       "max": 213296.0,
       "min": 0.0,
       "orientation": "horizontal",
       "style": "IPY_MODEL_662591d6ea0c4715adae2d69aa26e2f4",
       "value": 213296.0
      }
     },
     "13295e1a89ed4a54bd8655d5575128cf": {
      "model_module": "@jupyter-widgets/controls",
      "model_module_version": "1.5.0",
      "model_name": "ProgressStyleModel",
      "state": {
       "_model_module": "@jupyter-widgets/controls",
       "_model_module_version": "1.5.0",
       "_model_name": "ProgressStyleModel",
       "_view_count": null,
       "_view_module": "@jupyter-widgets/base",
       "_view_module_version": "1.2.0",
       "_view_name": "StyleView",
       "bar_color": null,
       "description_width": ""
      }
     },
     "13b076e8f35f4374a59a0787f3fd905c": {
      "model_module": "@jupyter-widgets/base",
      "model_module_version": "1.2.0",
      "model_name": "LayoutModel",
      "state": {
       "_model_module": "@jupyter-widgets/base",
       "_model_module_version": "1.2.0",
       "_model_name": "LayoutModel",
       "_view_count": null,
       "_view_module": "@jupyter-widgets/base",
       "_view_module_version": "1.2.0",
       "_view_name": "LayoutView",
       "align_content": null,
       "align_items": null,
       "align_self": null,
       "border": null,
       "bottom": null,
       "display": null,
       "flex": null,
       "flex_flow": null,
       "grid_area": null,
       "grid_auto_columns": null,
       "grid_auto_flow": null,
       "grid_auto_rows": null,
       "grid_column": null,
       "grid_gap": null,
       "grid_row": null,
       "grid_template_areas": null,
       "grid_template_columns": null,
       "grid_template_rows": null,
       "height": null,
       "justify_content": null,
       "justify_items": null,
       "left": null,
       "margin": null,
       "max_height": null,
       "max_width": null,
       "min_height": null,
       "min_width": null,
       "object_fit": null,
       "object_position": null,
       "order": null,
       "overflow": null,
       "overflow_x": null,
       "overflow_y": null,
       "padding": null,
       "right": null,
       "top": null,
       "visibility": null,
       "width": null
      }
     },
     "14a9107477d746c1a50e7783479aa58d": {
      "model_module": "@jupyter-widgets/controls",
      "model_module_version": "1.5.0",
      "model_name": "DescriptionStyleModel",
      "state": {
       "_model_module": "@jupyter-widgets/controls",
       "_model_module_version": "1.5.0",
       "_model_name": "DescriptionStyleModel",
       "_view_count": null,
       "_view_module": "@jupyter-widgets/base",
       "_view_module_version": "1.2.0",
       "_view_name": "StyleView",
       "description_width": ""
      }
     },
     "153b1139b82e467dbc444e089864ece5": {
      "model_module": "@jupyter-widgets/controls",
      "model_module_version": "1.5.0",
      "model_name": "ProgressStyleModel",
      "state": {
       "_model_module": "@jupyter-widgets/controls",
       "_model_module_version": "1.5.0",
       "_model_name": "ProgressStyleModel",
       "_view_count": null,
       "_view_module": "@jupyter-widgets/base",
       "_view_module_version": "1.2.0",
       "_view_name": "StyleView",
       "bar_color": null,
       "description_width": ""
      }
     },
     "1f9e63aab556451681ddd38455e49ab7": {
      "model_module": "@jupyter-widgets/controls",
      "model_module_version": "1.5.0",
      "model_name": "DescriptionStyleModel",
      "state": {
       "_model_module": "@jupyter-widgets/controls",
       "_model_module_version": "1.5.0",
       "_model_name": "DescriptionStyleModel",
       "_view_count": null,
       "_view_module": "@jupyter-widgets/base",
       "_view_module_version": "1.2.0",
       "_view_name": "StyleView",
       "description_width": ""
      }
     },
     "2701396c62b344d2ac4b6777542cb830": {
      "model_module": "@jupyter-widgets/controls",
      "model_module_version": "1.5.0",
      "model_name": "DescriptionStyleModel",
      "state": {
       "_model_module": "@jupyter-widgets/controls",
       "_model_module_version": "1.5.0",
       "_model_name": "DescriptionStyleModel",
       "_view_count": null,
       "_view_module": "@jupyter-widgets/base",
       "_view_module_version": "1.2.0",
       "_view_name": "StyleView",
       "description_width": ""
      }
     },
     "286f57793f1f4167b1db085efe9013ea": {
      "model_module": "@jupyter-widgets/controls",
      "model_module_version": "1.5.0",
      "model_name": "HTMLModel",
      "state": {
       "_dom_classes": [],
       "_model_module": "@jupyter-widgets/controls",
       "_model_module_version": "1.5.0",
       "_model_name": "HTMLModel",
       "_view_count": null,
       "_view_module": "@jupyter-widgets/controls",
       "_view_module_version": "1.5.0",
       "_view_name": "HTMLView",
       "description": "",
       "description_tooltip": null,
       "layout": "IPY_MODEL_2d8550b32cd041daa59c12a9fd079ea3",
       "placeholder": "​",
       "style": "IPY_MODEL_92ddb92936e948ad81f0c1d195c09151",
       "value": "100%"
      }
     },
     "2a60b58229234437aa2590f67052f548": {
      "model_module": "@jupyter-widgets/base",
      "model_module_version": "1.2.0",
      "model_name": "LayoutModel",
      "state": {
       "_model_module": "@jupyter-widgets/base",
       "_model_module_version": "1.2.0",
       "_model_name": "LayoutModel",
       "_view_count": null,
       "_view_module": "@jupyter-widgets/base",
       "_view_module_version": "1.2.0",
       "_view_name": "LayoutView",
       "align_content": null,
       "align_items": null,
       "align_self": null,
       "border": null,
       "bottom": null,
       "display": null,
       "flex": null,
       "flex_flow": null,
       "grid_area": null,
       "grid_auto_columns": null,
       "grid_auto_flow": null,
       "grid_auto_rows": null,
       "grid_column": null,
       "grid_gap": null,
       "grid_row": null,
       "grid_template_areas": null,
       "grid_template_columns": null,
       "grid_template_rows": null,
       "height": null,
       "justify_content": null,
       "justify_items": null,
       "left": null,
       "margin": null,
       "max_height": null,
       "max_width": null,
       "min_height": null,
       "min_width": null,
       "object_fit": null,
       "object_position": null,
       "order": null,
       "overflow": null,
       "overflow_x": null,
       "overflow_y": null,
       "padding": null,
       "right": null,
       "top": null,
       "visibility": null,
       "width": null
      }
     },
     "2d8550b32cd041daa59c12a9fd079ea3": {
      "model_module": "@jupyter-widgets/base",
      "model_module_version": "1.2.0",
      "model_name": "LayoutModel",
      "state": {
       "_model_module": "@jupyter-widgets/base",
       "_model_module_version": "1.2.0",
       "_model_name": "LayoutModel",
       "_view_count": null,
       "_view_module": "@jupyter-widgets/base",
       "_view_module_version": "1.2.0",
       "_view_name": "LayoutView",
       "align_content": null,
       "align_items": null,
       "align_self": null,
       "border": null,
       "bottom": null,
       "display": null,
       "flex": null,
       "flex_flow": null,
       "grid_area": null,
       "grid_auto_columns": null,
       "grid_auto_flow": null,
       "grid_auto_rows": null,
       "grid_column": null,
       "grid_gap": null,
       "grid_row": null,
       "grid_template_areas": null,
       "grid_template_columns": null,
       "grid_template_rows": null,
       "height": null,
       "justify_content": null,
       "justify_items": null,
       "left": null,
       "margin": null,
       "max_height": null,
       "max_width": null,
       "min_height": null,
       "min_width": null,
       "object_fit": null,
       "object_position": null,
       "order": null,
       "overflow": null,
       "overflow_x": null,
       "overflow_y": null,
       "padding": null,
       "right": null,
       "top": null,
       "visibility": null,
       "width": null
      }
     },
     "34a084bcabd842479c3bc966227142c7": {
      "model_module": "@jupyter-widgets/controls",
      "model_module_version": "1.5.0",
      "model_name": "HBoxModel",
      "state": {
       "_dom_classes": [],
       "_model_module": "@jupyter-widgets/controls",
       "_model_module_version": "1.5.0",
       "_model_name": "HBoxModel",
       "_view_count": null,
       "_view_module": "@jupyter-widgets/controls",
       "_view_module_version": "1.5.0",
       "_view_name": "HBoxView",
       "box_style": "",
       "children": [
        "IPY_MODEL_56019a24c7954ece83833c9a30b94502",
        "IPY_MODEL_12007d6239e04397b2efc1bff73f7a0e",
        "IPY_MODEL_a59568ecb50546dd8e19910435d031c7"
       ],
       "layout": "IPY_MODEL_f8054b0b73814f49a1a7f528fc47bfa5"
      }
     },
     "37d86747a58347769f6d638b454233e9": {
      "model_module": "@jupyter-widgets/base",
      "model_module_version": "1.2.0",
      "model_name": "LayoutModel",
      "state": {
       "_model_module": "@jupyter-widgets/base",
       "_model_module_version": "1.2.0",
       "_model_name": "LayoutModel",
       "_view_count": null,
       "_view_module": "@jupyter-widgets/base",
       "_view_module_version": "1.2.0",
       "_view_name": "LayoutView",
       "align_content": null,
       "align_items": null,
       "align_self": null,
       "border": null,
       "bottom": null,
       "display": null,
       "flex": null,
       "flex_flow": null,
       "grid_area": null,
       "grid_auto_columns": null,
       "grid_auto_flow": null,
       "grid_auto_rows": null,
       "grid_column": null,
       "grid_gap": null,
       "grid_row": null,
       "grid_template_areas": null,
       "grid_template_columns": null,
       "grid_template_rows": null,
       "height": null,
       "justify_content": null,
       "justify_items": null,
       "left": null,
       "margin": null,
       "max_height": null,
       "max_width": null,
       "min_height": null,
       "min_width": null,
       "object_fit": null,
       "object_position": null,
       "order": null,
       "overflow": null,
       "overflow_x": null,
       "overflow_y": null,
       "padding": null,
       "right": null,
       "top": null,
       "visibility": null,
       "width": null
      }
     },
     "38a198c835844d4bbedb38b617b7c1cc": {
      "model_module": "@jupyter-widgets/controls",
      "model_module_version": "1.5.0",
      "model_name": "HBoxModel",
      "state": {
       "_dom_classes": [],
       "_model_module": "@jupyter-widgets/controls",
       "_model_module_version": "1.5.0",
       "_model_name": "HBoxModel",
       "_view_count": null,
       "_view_module": "@jupyter-widgets/controls",
       "_view_module_version": "1.5.0",
       "_view_name": "HBoxView",
       "box_style": "",
       "children": [
        "IPY_MODEL_e80f09f7b76b4bdeb54726049aced819",
        "IPY_MODEL_8a689036460047ae9788b53f9b1cb393",
        "IPY_MODEL_672f7b5a6bc6499d8eef6f413eeb4b6b"
       ],
       "layout": "IPY_MODEL_877dd491627847a1b3e19a758c128c77"
      }
     },
     "45c28eedbbd84788b087e84d25afa107": {
      "model_module": "@jupyter-widgets/controls",
      "model_module_version": "1.5.0",
      "model_name": "FloatProgressModel",
      "state": {
       "_dom_classes": [],
       "_model_module": "@jupyter-widgets/controls",
       "_model_module_version": "1.5.0",
       "_model_name": "FloatProgressModel",
       "_view_count": null,
       "_view_module": "@jupyter-widgets/controls",
       "_view_module_version": "1.5.0",
       "_view_name": "ProgressView",
       "bar_style": "success",
       "description": "",
       "description_tooltip": null,
       "layout": "IPY_MODEL_45ffbd9913d6466d8475c6d01c7aae95",
       "max": 5.0,
       "min": 0.0,
       "orientation": "horizontal",
       "style": "IPY_MODEL_c978b5e9499048e984bbe2a1ac7f4a39",
       "value": 5.0
      }
     },
     "45ffbd9913d6466d8475c6d01c7aae95": {
      "model_module": "@jupyter-widgets/base",
      "model_module_version": "1.2.0",
      "model_name": "LayoutModel",
      "state": {
       "_model_module": "@jupyter-widgets/base",
       "_model_module_version": "1.2.0",
       "_model_name": "LayoutModel",
       "_view_count": null,
       "_view_module": "@jupyter-widgets/base",
       "_view_module_version": "1.2.0",
       "_view_name": "LayoutView",
       "align_content": null,
       "align_items": null,
       "align_self": null,
       "border": null,
       "bottom": null,
       "display": null,
       "flex": null,
       "flex_flow": null,
       "grid_area": null,
       "grid_auto_columns": null,
       "grid_auto_flow": null,
       "grid_auto_rows": null,
       "grid_column": null,
       "grid_gap": null,
       "grid_row": null,
       "grid_template_areas": null,
       "grid_template_columns": null,
       "grid_template_rows": null,
       "height": null,
       "justify_content": null,
       "justify_items": null,
       "left": null,
       "margin": null,
       "max_height": null,
       "max_width": null,
       "min_height": null,
       "min_width": null,
       "object_fit": null,
       "object_position": null,
       "order": null,
       "overflow": null,
       "overflow_x": null,
       "overflow_y": null,
       "padding": null,
       "right": null,
       "top": null,
       "visibility": null,
       "width": null
      }
     },
     "47844743b4e0464899a1977a528acf1b": {
      "model_module": "@jupyter-widgets/controls",
      "model_module_version": "1.5.0",
      "model_name": "ProgressStyleModel",
      "state": {
       "_model_module": "@jupyter-widgets/controls",
       "_model_module_version": "1.5.0",
       "_model_name": "ProgressStyleModel",
       "_view_count": null,
       "_view_module": "@jupyter-widgets/base",
       "_view_module_version": "1.2.0",
       "_view_name": "StyleView",
       "bar_color": null,
       "description_width": ""
      }
     },
     "4c54b783b7b74de68eb2217dd9787c63": {
      "model_module": "@jupyter-widgets/controls",
      "model_module_version": "1.5.0",
      "model_name": "DescriptionStyleModel",
      "state": {
       "_model_module": "@jupyter-widgets/controls",
       "_model_module_version": "1.5.0",
       "_model_name": "DescriptionStyleModel",
       "_view_count": null,
       "_view_module": "@jupyter-widgets/base",
       "_view_module_version": "1.2.0",
       "_view_name": "StyleView",
       "description_width": ""
      }
     },
     "4ee03c7004524603bb1fe3c1dd80c9c0": {
      "model_module": "@jupyter-widgets/controls",
      "model_module_version": "1.5.0",
      "model_name": "FloatProgressModel",
      "state": {
       "_dom_classes": [],
       "_model_module": "@jupyter-widgets/controls",
       "_model_module_version": "1.5.0",
       "_model_name": "FloatProgressModel",
       "_view_count": null,
       "_view_module": "@jupyter-widgets/controls",
       "_view_module_version": "1.5.0",
       "_view_name": "ProgressView",
       "bar_style": "success",
       "description": "",
       "description_tooltip": null,
       "layout": "IPY_MODEL_f15538fe9354459ab89daa3392664a87",
       "max": 5.0,
       "min": 0.0,
       "orientation": "horizontal",
       "style": "IPY_MODEL_13295e1a89ed4a54bd8655d5575128cf",
       "value": 5.0
      }
     },
     "5020d8e38f7d4fa99a84626f76b00362": {
      "model_module": "@jupyter-widgets/base",
      "model_module_version": "1.2.0",
      "model_name": "LayoutModel",
      "state": {
       "_model_module": "@jupyter-widgets/base",
       "_model_module_version": "1.2.0",
       "_model_name": "LayoutModel",
       "_view_count": null,
       "_view_module": "@jupyter-widgets/base",
       "_view_module_version": "1.2.0",
       "_view_name": "LayoutView",
       "align_content": null,
       "align_items": null,
       "align_self": null,
       "border": null,
       "bottom": null,
       "display": null,
       "flex": null,
       "flex_flow": null,
       "grid_area": null,
       "grid_auto_columns": null,
       "grid_auto_flow": null,
       "grid_auto_rows": null,
       "grid_column": null,
       "grid_gap": null,
       "grid_row": null,
       "grid_template_areas": null,
       "grid_template_columns": null,
       "grid_template_rows": null,
       "height": null,
       "justify_content": null,
       "justify_items": null,
       "left": null,
       "margin": null,
       "max_height": null,
       "max_width": null,
       "min_height": null,
       "min_width": null,
       "object_fit": null,
       "object_position": null,
       "order": null,
       "overflow": null,
       "overflow_x": null,
       "overflow_y": null,
       "padding": null,
       "right": null,
       "top": null,
       "visibility": null,
       "width": null
      }
     },
     "510bbf334743438e8315d198383328d0": {
      "model_module": "@jupyter-widgets/controls",
      "model_module_version": "1.5.0",
      "model_name": "HBoxModel",
      "state": {
       "_dom_classes": [],
       "_model_module": "@jupyter-widgets/controls",
       "_model_module_version": "1.5.0",
       "_model_name": "HBoxModel",
       "_view_count": null,
       "_view_module": "@jupyter-widgets/controls",
       "_view_module_version": "1.5.0",
       "_view_name": "HBoxView",
       "box_style": "",
       "children": [
        "IPY_MODEL_a40557360ead4c0fac19f6a26eed8f70",
        "IPY_MODEL_45c28eedbbd84788b087e84d25afa107",
        "IPY_MODEL_0a79e06bc0ad42ab9fb47b6e4e08c289"
       ],
       "layout": "IPY_MODEL_e13cc0ae09654fb098554ef23b4a4cf5"
      }
     },
     "560015d2fabf4e50946181d8f4172a03": {
      "model_module": "@jupyter-widgets/controls",
      "model_module_version": "1.5.0",
      "model_name": "HTMLModel",
      "state": {
       "_dom_classes": [],
       "_model_module": "@jupyter-widgets/controls",
       "_model_module_version": "1.5.0",
       "_model_name": "HTMLModel",
       "_view_count": null,
       "_view_module": "@jupyter-widgets/controls",
       "_view_module_version": "1.5.0",
       "_view_name": "HTMLView",
       "description": "",
       "description_tooltip": null,
       "layout": "IPY_MODEL_b8c25758fc4845ffa0eceff044c3a543",
       "placeholder": "​",
       "style": "IPY_MODEL_0ccfe9c3cddd4568938f65c24d50367c",
       "value": "100%"
      }
     },
     "56019a24c7954ece83833c9a30b94502": {
      "model_module": "@jupyter-widgets/controls",
      "model_module_version": "1.5.0",
      "model_name": "HTMLModel",
      "state": {
       "_dom_classes": [],
       "_model_module": "@jupyter-widgets/controls",
       "_model_module_version": "1.5.0",
       "_model_name": "HTMLModel",
       "_view_count": null,
       "_view_module": "@jupyter-widgets/controls",
       "_view_module_version": "1.5.0",
       "_view_name": "HTMLView",
       "description": "",
       "description_tooltip": null,
       "layout": "IPY_MODEL_b06126e576984c49ba26aff043840b6a",
       "placeholder": "​",
       "style": "IPY_MODEL_d42fbbeca6664a8481be028bee5b9b2d",
       "value": "100%"
      }
     },
     "63df19c54eb846c39581a53161c41b62": {
      "model_module": "@jupyter-widgets/base",
      "model_module_version": "1.2.0",
      "model_name": "LayoutModel",
      "state": {
       "_model_module": "@jupyter-widgets/base",
       "_model_module_version": "1.2.0",
       "_model_name": "LayoutModel",
       "_view_count": null,
       "_view_module": "@jupyter-widgets/base",
       "_view_module_version": "1.2.0",
       "_view_name": "LayoutView",
       "align_content": null,
       "align_items": null,
       "align_self": null,
       "border": null,
       "bottom": null,
       "display": null,
       "flex": null,
       "flex_flow": null,
       "grid_area": null,
       "grid_auto_columns": null,
       "grid_auto_flow": null,
       "grid_auto_rows": null,
       "grid_column": null,
       "grid_gap": null,
       "grid_row": null,
       "grid_template_areas": null,
       "grid_template_columns": null,
       "grid_template_rows": null,
       "height": null,
       "justify_content": null,
       "justify_items": null,
       "left": null,
       "margin": null,
       "max_height": null,
       "max_width": null,
       "min_height": null,
       "min_width": null,
       "object_fit": null,
       "object_position": null,
       "order": null,
       "overflow": null,
       "overflow_x": null,
       "overflow_y": null,
       "padding": null,
       "right": null,
       "top": null,
       "visibility": null,
       "width": null
      }
     },
     "65e7b238750c4c44b891c28aaccacc1a": {
      "model_module": "@jupyter-widgets/controls",
      "model_module_version": "1.5.0",
      "model_name": "HTMLModel",
      "state": {
       "_dom_classes": [],
       "_model_module": "@jupyter-widgets/controls",
       "_model_module_version": "1.5.0",
       "_model_name": "HTMLModel",
       "_view_count": null,
       "_view_module": "@jupyter-widgets/controls",
       "_view_module_version": "1.5.0",
       "_view_name": "HTMLView",
       "description": "",
       "description_tooltip": null,
       "layout": "IPY_MODEL_5020d8e38f7d4fa99a84626f76b00362",
       "placeholder": "​",
       "style": "IPY_MODEL_ac7e0a57fb744e2786aca646890016a3",
       "value": "100%"
      }
     },
     "662591d6ea0c4715adae2d69aa26e2f4": {
      "model_module": "@jupyter-widgets/controls",
      "model_module_version": "1.5.0",
      "model_name": "ProgressStyleModel",
      "state": {
       "_model_module": "@jupyter-widgets/controls",
       "_model_module_version": "1.5.0",
       "_model_name": "ProgressStyleModel",
       "_view_count": null,
       "_view_module": "@jupyter-widgets/base",
       "_view_module_version": "1.2.0",
       "_view_name": "StyleView",
       "bar_color": null,
       "description_width": ""
      }
     },
     "672f7b5a6bc6499d8eef6f413eeb4b6b": {
      "model_module": "@jupyter-widgets/controls",
      "model_module_version": "1.5.0",
      "model_name": "HTMLModel",
      "state": {
       "_dom_classes": [],
       "_model_module": "@jupyter-widgets/controls",
       "_model_module_version": "1.5.0",
       "_model_name": "HTMLModel",
       "_view_count": null,
       "_view_module": "@jupyter-widgets/controls",
       "_view_module_version": "1.5.0",
       "_view_name": "HTMLView",
       "description": "",
       "description_tooltip": null,
       "layout": "IPY_MODEL_8fc3656dc04044db8b4f870ffaa6b39d",
       "placeholder": "​",
       "style": "IPY_MODEL_f3cd8572b1824112b814ac6b8e6ff402",
       "value": " 213296/213296 [29:40&lt;00:00, 117.31it/s]"
      }
     },
     "6ad5c3aa212248d9a21806f66ec47690": {
      "model_module": "@jupyter-widgets/controls",
      "model_module_version": "1.5.0",
      "model_name": "DescriptionStyleModel",
      "state": {
       "_model_module": "@jupyter-widgets/controls",
       "_model_module_version": "1.5.0",
       "_model_name": "DescriptionStyleModel",
       "_view_count": null,
       "_view_module": "@jupyter-widgets/base",
       "_view_module_version": "1.2.0",
       "_view_name": "StyleView",
       "description_width": ""
      }
     },
     "6fc8e347c0994a379ae7bf3d9664c469": {
      "model_module": "@jupyter-widgets/base",
      "model_module_version": "1.2.0",
      "model_name": "LayoutModel",
      "state": {
       "_model_module": "@jupyter-widgets/base",
       "_model_module_version": "1.2.0",
       "_model_name": "LayoutModel",
       "_view_count": null,
       "_view_module": "@jupyter-widgets/base",
       "_view_module_version": "1.2.0",
       "_view_name": "LayoutView",
       "align_content": null,
       "align_items": null,
       "align_self": null,
       "border": null,
       "bottom": null,
       "display": null,
       "flex": null,
       "flex_flow": null,
       "grid_area": null,
       "grid_auto_columns": null,
       "grid_auto_flow": null,
       "grid_auto_rows": null,
       "grid_column": null,
       "grid_gap": null,
       "grid_row": null,
       "grid_template_areas": null,
       "grid_template_columns": null,
       "grid_template_rows": null,
       "height": null,
       "justify_content": null,
       "justify_items": null,
       "left": null,
       "margin": null,
       "max_height": null,
       "max_width": null,
       "min_height": null,
       "min_width": null,
       "object_fit": null,
       "object_position": null,
       "order": null,
       "overflow": null,
       "overflow_x": null,
       "overflow_y": null,
       "padding": null,
       "right": null,
       "top": null,
       "visibility": null,
       "width": null
      }
     },
     "7a4030a780d342ebb559c4cb3ec034e2": {
      "model_module": "@jupyter-widgets/base",
      "model_module_version": "1.2.0",
      "model_name": "LayoutModel",
      "state": {
       "_model_module": "@jupyter-widgets/base",
       "_model_module_version": "1.2.0",
       "_model_name": "LayoutModel",
       "_view_count": null,
       "_view_module": "@jupyter-widgets/base",
       "_view_module_version": "1.2.0",
       "_view_name": "LayoutView",
       "align_content": null,
       "align_items": null,
       "align_self": null,
       "border": null,
       "bottom": null,
       "display": null,
       "flex": null,
       "flex_flow": null,
       "grid_area": null,
       "grid_auto_columns": null,
       "grid_auto_flow": null,
       "grid_auto_rows": null,
       "grid_column": null,
       "grid_gap": null,
       "grid_row": null,
       "grid_template_areas": null,
       "grid_template_columns": null,
       "grid_template_rows": null,
       "height": null,
       "justify_content": null,
       "justify_items": null,
       "left": null,
       "margin": null,
       "max_height": null,
       "max_width": null,
       "min_height": null,
       "min_width": null,
       "object_fit": null,
       "object_position": null,
       "order": null,
       "overflow": null,
       "overflow_x": null,
       "overflow_y": null,
       "padding": null,
       "right": null,
       "top": null,
       "visibility": null,
       "width": null
      }
     },
     "81b5319d3a1d405caed167d1c5d27216": {
      "model_module": "@jupyter-widgets/base",
      "model_module_version": "1.2.0",
      "model_name": "LayoutModel",
      "state": {
       "_model_module": "@jupyter-widgets/base",
       "_model_module_version": "1.2.0",
       "_model_name": "LayoutModel",
       "_view_count": null,
       "_view_module": "@jupyter-widgets/base",
       "_view_module_version": "1.2.0",
       "_view_name": "LayoutView",
       "align_content": null,
       "align_items": null,
       "align_self": null,
       "border": null,
       "bottom": null,
       "display": null,
       "flex": null,
       "flex_flow": null,
       "grid_area": null,
       "grid_auto_columns": null,
       "grid_auto_flow": null,
       "grid_auto_rows": null,
       "grid_column": null,
       "grid_gap": null,
       "grid_row": null,
       "grid_template_areas": null,
       "grid_template_columns": null,
       "grid_template_rows": null,
       "height": null,
       "justify_content": null,
       "justify_items": null,
       "left": null,
       "margin": null,
       "max_height": null,
       "max_width": null,
       "min_height": null,
       "min_width": null,
       "object_fit": null,
       "object_position": null,
       "order": null,
       "overflow": null,
       "overflow_x": null,
       "overflow_y": null,
       "padding": null,
       "right": null,
       "top": null,
       "visibility": null,
       "width": null
      }
     },
     "877dd491627847a1b3e19a758c128c77": {
      "model_module": "@jupyter-widgets/base",
      "model_module_version": "1.2.0",
      "model_name": "LayoutModel",
      "state": {
       "_model_module": "@jupyter-widgets/base",
       "_model_module_version": "1.2.0",
       "_model_name": "LayoutModel",
       "_view_count": null,
       "_view_module": "@jupyter-widgets/base",
       "_view_module_version": "1.2.0",
       "_view_name": "LayoutView",
       "align_content": null,
       "align_items": null,
       "align_self": null,
       "border": null,
       "bottom": null,
       "display": null,
       "flex": null,
       "flex_flow": null,
       "grid_area": null,
       "grid_auto_columns": null,
       "grid_auto_flow": null,
       "grid_auto_rows": null,
       "grid_column": null,
       "grid_gap": null,
       "grid_row": null,
       "grid_template_areas": null,
       "grid_template_columns": null,
       "grid_template_rows": null,
       "height": null,
       "justify_content": null,
       "justify_items": null,
       "left": null,
       "margin": null,
       "max_height": null,
       "max_width": null,
       "min_height": null,
       "min_width": null,
       "object_fit": null,
       "object_position": null,
       "order": null,
       "overflow": null,
       "overflow_x": null,
       "overflow_y": null,
       "padding": null,
       "right": null,
       "top": null,
       "visibility": null,
       "width": null
      }
     },
     "89f4ca71762745048d6e46b384e317df": {
      "model_module": "@jupyter-widgets/base",
      "model_module_version": "1.2.0",
      "model_name": "LayoutModel",
      "state": {
       "_model_module": "@jupyter-widgets/base",
       "_model_module_version": "1.2.0",
       "_model_name": "LayoutModel",
       "_view_count": null,
       "_view_module": "@jupyter-widgets/base",
       "_view_module_version": "1.2.0",
       "_view_name": "LayoutView",
       "align_content": null,
       "align_items": null,
       "align_self": null,
       "border": null,
       "bottom": null,
       "display": null,
       "flex": null,
       "flex_flow": null,
       "grid_area": null,
       "grid_auto_columns": null,
       "grid_auto_flow": null,
       "grid_auto_rows": null,
       "grid_column": null,
       "grid_gap": null,
       "grid_row": null,
       "grid_template_areas": null,
       "grid_template_columns": null,
       "grid_template_rows": null,
       "height": null,
       "justify_content": null,
       "justify_items": null,
       "left": null,
       "margin": null,
       "max_height": null,
       "max_width": null,
       "min_height": null,
       "min_width": null,
       "object_fit": null,
       "object_position": null,
       "order": null,
       "overflow": null,
       "overflow_x": null,
       "overflow_y": null,
       "padding": null,
       "right": null,
       "top": null,
       "visibility": null,
       "width": null
      }
     },
     "8a689036460047ae9788b53f9b1cb393": {
      "model_module": "@jupyter-widgets/controls",
      "model_module_version": "1.5.0",
      "model_name": "FloatProgressModel",
      "state": {
       "_dom_classes": [],
       "_model_module": "@jupyter-widgets/controls",
       "_model_module_version": "1.5.0",
       "_model_name": "FloatProgressModel",
       "_view_count": null,
       "_view_module": "@jupyter-widgets/controls",
       "_view_module_version": "1.5.0",
       "_view_name": "ProgressView",
       "bar_style": "success",
       "description": "",
       "description_tooltip": null,
       "layout": "IPY_MODEL_9592ab3f40384858856b10897be6e5d0",
       "max": 213296.0,
       "min": 0.0,
       "orientation": "horizontal",
       "style": "IPY_MODEL_153b1139b82e467dbc444e089864ece5",
       "value": 213296.0
      }
     },
     "8b4efcc8db6942efa36cbe1140ac6744": {
      "model_module": "@jupyter-widgets/controls",
      "model_module_version": "1.5.0",
      "model_name": "HTMLModel",
      "state": {
       "_dom_classes": [],
       "_model_module": "@jupyter-widgets/controls",
       "_model_module_version": "1.5.0",
       "_model_name": "HTMLModel",
       "_view_count": null,
       "_view_module": "@jupyter-widgets/controls",
       "_view_module_version": "1.5.0",
       "_view_name": "HTMLView",
       "description": "",
       "description_tooltip": null,
       "layout": "IPY_MODEL_89f4ca71762745048d6e46b384e317df",
       "placeholder": "​",
       "style": "IPY_MODEL_6ad5c3aa212248d9a21806f66ec47690",
       "value": " 5/5 [22:16&lt;00:00, 266.60s/it]"
      }
     },
     "8fc3656dc04044db8b4f870ffaa6b39d": {
      "model_module": "@jupyter-widgets/base",
      "model_module_version": "1.2.0",
      "model_name": "LayoutModel",
      "state": {
       "_model_module": "@jupyter-widgets/base",
       "_model_module_version": "1.2.0",
       "_model_name": "LayoutModel",
       "_view_count": null,
       "_view_module": "@jupyter-widgets/base",
       "_view_module_version": "1.2.0",
       "_view_name": "LayoutView",
       "align_content": null,
       "align_items": null,
       "align_self": null,
       "border": null,
       "bottom": null,
       "display": null,
       "flex": null,
       "flex_flow": null,
       "grid_area": null,
       "grid_auto_columns": null,
       "grid_auto_flow": null,
       "grid_auto_rows": null,
       "grid_column": null,
       "grid_gap": null,
       "grid_row": null,
       "grid_template_areas": null,
       "grid_template_columns": null,
       "grid_template_rows": null,
       "height": null,
       "justify_content": null,
       "justify_items": null,
       "left": null,
       "margin": null,
       "max_height": null,
       "max_width": null,
       "min_height": null,
       "min_width": null,
       "object_fit": null,
       "object_position": null,
       "order": null,
       "overflow": null,
       "overflow_x": null,
       "overflow_y": null,
       "padding": null,
       "right": null,
       "top": null,
       "visibility": null,
       "width": null
      }
     },
     "92ddb92936e948ad81f0c1d195c09151": {
      "model_module": "@jupyter-widgets/controls",
      "model_module_version": "1.5.0",
      "model_name": "DescriptionStyleModel",
      "state": {
       "_model_module": "@jupyter-widgets/controls",
       "_model_module_version": "1.5.0",
       "_model_name": "DescriptionStyleModel",
       "_view_count": null,
       "_view_module": "@jupyter-widgets/base",
       "_view_module_version": "1.2.0",
       "_view_name": "StyleView",
       "description_width": ""
      }
     },
     "9592ab3f40384858856b10897be6e5d0": {
      "model_module": "@jupyter-widgets/base",
      "model_module_version": "1.2.0",
      "model_name": "LayoutModel",
      "state": {
       "_model_module": "@jupyter-widgets/base",
       "_model_module_version": "1.2.0",
       "_model_name": "LayoutModel",
       "_view_count": null,
       "_view_module": "@jupyter-widgets/base",
       "_view_module_version": "1.2.0",
       "_view_name": "LayoutView",
       "align_content": null,
       "align_items": null,
       "align_self": null,
       "border": null,
       "bottom": null,
       "display": null,
       "flex": null,
       "flex_flow": null,
       "grid_area": null,
       "grid_auto_columns": null,
       "grid_auto_flow": null,
       "grid_auto_rows": null,
       "grid_column": null,
       "grid_gap": null,
       "grid_row": null,
       "grid_template_areas": null,
       "grid_template_columns": null,
       "grid_template_rows": null,
       "height": null,
       "justify_content": null,
       "justify_items": null,
       "left": null,
       "margin": null,
       "max_height": null,
       "max_width": null,
       "min_height": null,
       "min_width": null,
       "object_fit": null,
       "object_position": null,
       "order": null,
       "overflow": null,
       "overflow_x": null,
       "overflow_y": null,
       "padding": null,
       "right": null,
       "top": null,
       "visibility": null,
       "width": null
      }
     },
     "9cc3b13972f244d9adf0de6f7150145b": {
      "model_module": "@jupyter-widgets/controls",
      "model_module_version": "1.5.0",
      "model_name": "HTMLModel",
      "state": {
       "_dom_classes": [],
       "_model_module": "@jupyter-widgets/controls",
       "_model_module_version": "1.5.0",
       "_model_name": "HTMLModel",
       "_view_count": null,
       "_view_module": "@jupyter-widgets/controls",
       "_view_module_version": "1.5.0",
       "_view_name": "HTMLView",
       "description": "",
       "description_tooltip": null,
       "layout": "IPY_MODEL_a29e8982feca4ff3aaea66ac6a4e84c7",
       "placeholder": "​",
       "style": "IPY_MODEL_113dd4e6f896437289feb63116ed3606",
       "value": "100%"
      }
     },
     "a29e8982feca4ff3aaea66ac6a4e84c7": {
      "model_module": "@jupyter-widgets/base",
      "model_module_version": "1.2.0",
      "model_name": "LayoutModel",
      "state": {
       "_model_module": "@jupyter-widgets/base",
       "_model_module_version": "1.2.0",
       "_model_name": "LayoutModel",
       "_view_count": null,
       "_view_module": "@jupyter-widgets/base",
       "_view_module_version": "1.2.0",
       "_view_name": "LayoutView",
       "align_content": null,
       "align_items": null,
       "align_self": null,
       "border": null,
       "bottom": null,
       "display": null,
       "flex": null,
       "flex_flow": null,
       "grid_area": null,
       "grid_auto_columns": null,
       "grid_auto_flow": null,
       "grid_auto_rows": null,
       "grid_column": null,
       "grid_gap": null,
       "grid_row": null,
       "grid_template_areas": null,
       "grid_template_columns": null,
       "grid_template_rows": null,
       "height": null,
       "justify_content": null,
       "justify_items": null,
       "left": null,
       "margin": null,
       "max_height": null,
       "max_width": null,
       "min_height": null,
       "min_width": null,
       "object_fit": null,
       "object_position": null,
       "order": null,
       "overflow": null,
       "overflow_x": null,
       "overflow_y": null,
       "padding": null,
       "right": null,
       "top": null,
       "visibility": null,
       "width": null
      }
     },
     "a40557360ead4c0fac19f6a26eed8f70": {
      "model_module": "@jupyter-widgets/controls",
      "model_module_version": "1.5.0",
      "model_name": "HTMLModel",
      "state": {
       "_dom_classes": [],
       "_model_module": "@jupyter-widgets/controls",
       "_model_module_version": "1.5.0",
       "_model_name": "HTMLModel",
       "_view_count": null,
       "_view_module": "@jupyter-widgets/controls",
       "_view_module_version": "1.5.0",
       "_view_name": "HTMLView",
       "description": "",
       "description_tooltip": null,
       "layout": "IPY_MODEL_f21ce70cc8e44621b9b2b7c9051d1a4d",
       "placeholder": "​",
       "style": "IPY_MODEL_f60534bf2560408f9f280ca69ba66438",
       "value": "100%"
      }
     },
     "a494ffd101e14b949ee488a55d2b8f1f": {
      "model_module": "@jupyter-widgets/base",
      "model_module_version": "1.2.0",
      "model_name": "LayoutModel",
      "state": {
       "_model_module": "@jupyter-widgets/base",
       "_model_module_version": "1.2.0",
       "_model_name": "LayoutModel",
       "_view_count": null,
       "_view_module": "@jupyter-widgets/base",
       "_view_module_version": "1.2.0",
       "_view_name": "LayoutView",
       "align_content": null,
       "align_items": null,
       "align_self": null,
       "border": null,
       "bottom": null,
       "display": null,
       "flex": null,
       "flex_flow": null,
       "grid_area": null,
       "grid_auto_columns": null,
       "grid_auto_flow": null,
       "grid_auto_rows": null,
       "grid_column": null,
       "grid_gap": null,
       "grid_row": null,
       "grid_template_areas": null,
       "grid_template_columns": null,
       "grid_template_rows": null,
       "height": null,
       "justify_content": null,
       "justify_items": null,
       "left": null,
       "margin": null,
       "max_height": null,
       "max_width": null,
       "min_height": null,
       "min_width": null,
       "object_fit": null,
       "object_position": null,
       "order": null,
       "overflow": null,
       "overflow_x": null,
       "overflow_y": null,
       "padding": null,
       "right": null,
       "top": null,
       "visibility": null,
       "width": null
      }
     },
     "a59568ecb50546dd8e19910435d031c7": {
      "model_module": "@jupyter-widgets/controls",
      "model_module_version": "1.5.0",
      "model_name": "HTMLModel",
      "state": {
       "_dom_classes": [],
       "_model_module": "@jupyter-widgets/controls",
       "_model_module_version": "1.5.0",
       "_model_name": "HTMLModel",
       "_view_count": null,
       "_view_module": "@jupyter-widgets/controls",
       "_view_module_version": "1.5.0",
       "_view_name": "HTMLView",
       "description": "",
       "description_tooltip": null,
       "layout": "IPY_MODEL_04db62d084af4c20a4d750a7b5eed3d1",
       "placeholder": "​",
       "style": "IPY_MODEL_14a9107477d746c1a50e7783479aa58d",
       "value": " 213296/213296 [00:49&lt;00:00, 4472.35it/s]"
      }
     },
     "a845f1f8b7fc4a8792e3285e644b2591": {
      "model_module": "@jupyter-widgets/base",
      "model_module_version": "1.2.0",
      "model_name": "LayoutModel",
      "state": {
       "_model_module": "@jupyter-widgets/base",
       "_model_module_version": "1.2.0",
       "_model_name": "LayoutModel",
       "_view_count": null,
       "_view_module": "@jupyter-widgets/base",
       "_view_module_version": "1.2.0",
       "_view_name": "LayoutView",
       "align_content": null,
       "align_items": null,
       "align_self": null,
       "border": null,
       "bottom": null,
       "display": null,
       "flex": null,
       "flex_flow": null,
       "grid_area": null,
       "grid_auto_columns": null,
       "grid_auto_flow": null,
       "grid_auto_rows": null,
       "grid_column": null,
       "grid_gap": null,
       "grid_row": null,
       "grid_template_areas": null,
       "grid_template_columns": null,
       "grid_template_rows": null,
       "height": null,
       "justify_content": null,
       "justify_items": null,
       "left": null,
       "margin": null,
       "max_height": null,
       "max_width": null,
       "min_height": null,
       "min_width": null,
       "object_fit": null,
       "object_position": null,
       "order": null,
       "overflow": null,
       "overflow_x": null,
       "overflow_y": null,
       "padding": null,
       "right": null,
       "top": null,
       "visibility": null,
       "width": null
      }
     },
     "aa9962136801457db519f3e6a8f8c871": {
      "model_module": "@jupyter-widgets/controls",
      "model_module_version": "1.5.0",
      "model_name": "HBoxModel",
      "state": {
       "_dom_classes": [],
       "_model_module": "@jupyter-widgets/controls",
       "_model_module_version": "1.5.0",
       "_model_name": "HBoxModel",
       "_view_count": null,
       "_view_module": "@jupyter-widgets/controls",
       "_view_module_version": "1.5.0",
       "_view_name": "HBoxView",
       "box_style": "",
       "children": [
        "IPY_MODEL_560015d2fabf4e50946181d8f4172a03",
        "IPY_MODEL_4ee03c7004524603bb1fe3c1dd80c9c0",
        "IPY_MODEL_d43464a3e931417eb5ee4b8845dc0f5e"
       ],
       "layout": "IPY_MODEL_ab963fb894f84600ac68826bf3dc730e"
      }
     },
     "ab963fb894f84600ac68826bf3dc730e": {
      "model_module": "@jupyter-widgets/base",
      "model_module_version": "1.2.0",
      "model_name": "LayoutModel",
      "state": {
       "_model_module": "@jupyter-widgets/base",
       "_model_module_version": "1.2.0",
       "_model_name": "LayoutModel",
       "_view_count": null,
       "_view_module": "@jupyter-widgets/base",
       "_view_module_version": "1.2.0",
       "_view_name": "LayoutView",
       "align_content": null,
       "align_items": null,
       "align_self": null,
       "border": null,
       "bottom": null,
       "display": null,
       "flex": null,
       "flex_flow": null,
       "grid_area": null,
       "grid_auto_columns": null,
       "grid_auto_flow": null,
       "grid_auto_rows": null,
       "grid_column": null,
       "grid_gap": null,
       "grid_row": null,
       "grid_template_areas": null,
       "grid_template_columns": null,
       "grid_template_rows": null,
       "height": null,
       "justify_content": null,
       "justify_items": null,
       "left": null,
       "margin": null,
       "max_height": null,
       "max_width": null,
       "min_height": null,
       "min_width": null,
       "object_fit": null,
       "object_position": null,
       "order": null,
       "overflow": null,
       "overflow_x": null,
       "overflow_y": null,
       "padding": null,
       "right": null,
       "top": null,
       "visibility": null,
       "width": null
      }
     },
     "ac7e0a57fb744e2786aca646890016a3": {
      "model_module": "@jupyter-widgets/controls",
      "model_module_version": "1.5.0",
      "model_name": "DescriptionStyleModel",
      "state": {
       "_model_module": "@jupyter-widgets/controls",
       "_model_module_version": "1.5.0",
       "_model_name": "DescriptionStyleModel",
       "_view_count": null,
       "_view_module": "@jupyter-widgets/base",
       "_view_module_version": "1.2.0",
       "_view_name": "StyleView",
       "description_width": ""
      }
     },
     "add88d8d8eb8411f95acae23a8107534": {
      "model_module": "@jupyter-widgets/base",
      "model_module_version": "1.2.0",
      "model_name": "LayoutModel",
      "state": {
       "_model_module": "@jupyter-widgets/base",
       "_model_module_version": "1.2.0",
       "_model_name": "LayoutModel",
       "_view_count": null,
       "_view_module": "@jupyter-widgets/base",
       "_view_module_version": "1.2.0",
       "_view_name": "LayoutView",
       "align_content": null,
       "align_items": null,
       "align_self": null,
       "border": null,
       "bottom": null,
       "display": null,
       "flex": null,
       "flex_flow": null,
       "grid_area": null,
       "grid_auto_columns": null,
       "grid_auto_flow": null,
       "grid_auto_rows": null,
       "grid_column": null,
       "grid_gap": null,
       "grid_row": null,
       "grid_template_areas": null,
       "grid_template_columns": null,
       "grid_template_rows": null,
       "height": null,
       "justify_content": null,
       "justify_items": null,
       "left": null,
       "margin": null,
       "max_height": null,
       "max_width": null,
       "min_height": null,
       "min_width": null,
       "object_fit": null,
       "object_position": null,
       "order": null,
       "overflow": null,
       "overflow_x": null,
       "overflow_y": null,
       "padding": null,
       "right": null,
       "top": null,
       "visibility": null,
       "width": null
      }
     },
     "b06126e576984c49ba26aff043840b6a": {
      "model_module": "@jupyter-widgets/base",
      "model_module_version": "1.2.0",
      "model_name": "LayoutModel",
      "state": {
       "_model_module": "@jupyter-widgets/base",
       "_model_module_version": "1.2.0",
       "_model_name": "LayoutModel",
       "_view_count": null,
       "_view_module": "@jupyter-widgets/base",
       "_view_module_version": "1.2.0",
       "_view_name": "LayoutView",
       "align_content": null,
       "align_items": null,
       "align_self": null,
       "border": null,
       "bottom": null,
       "display": null,
       "flex": null,
       "flex_flow": null,
       "grid_area": null,
       "grid_auto_columns": null,
       "grid_auto_flow": null,
       "grid_auto_rows": null,
       "grid_column": null,
       "grid_gap": null,
       "grid_row": null,
       "grid_template_areas": null,
       "grid_template_columns": null,
       "grid_template_rows": null,
       "height": null,
       "justify_content": null,
       "justify_items": null,
       "left": null,
       "margin": null,
       "max_height": null,
       "max_width": null,
       "min_height": null,
       "min_width": null,
       "object_fit": null,
       "object_position": null,
       "order": null,
       "overflow": null,
       "overflow_x": null,
       "overflow_y": null,
       "padding": null,
       "right": null,
       "top": null,
       "visibility": null,
       "width": null
      }
     },
     "b8c25758fc4845ffa0eceff044c3a543": {
      "model_module": "@jupyter-widgets/base",
      "model_module_version": "1.2.0",
      "model_name": "LayoutModel",
      "state": {
       "_model_module": "@jupyter-widgets/base",
       "_model_module_version": "1.2.0",
       "_model_name": "LayoutModel",
       "_view_count": null,
       "_view_module": "@jupyter-widgets/base",
       "_view_module_version": "1.2.0",
       "_view_name": "LayoutView",
       "align_content": null,
       "align_items": null,
       "align_self": null,
       "border": null,
       "bottom": null,
       "display": null,
       "flex": null,
       "flex_flow": null,
       "grid_area": null,
       "grid_auto_columns": null,
       "grid_auto_flow": null,
       "grid_auto_rows": null,
       "grid_column": null,
       "grid_gap": null,
       "grid_row": null,
       "grid_template_areas": null,
       "grid_template_columns": null,
       "grid_template_rows": null,
       "height": null,
       "justify_content": null,
       "justify_items": null,
       "left": null,
       "margin": null,
       "max_height": null,
       "max_width": null,
       "min_height": null,
       "min_width": null,
       "object_fit": null,
       "object_position": null,
       "order": null,
       "overflow": null,
       "overflow_x": null,
       "overflow_y": null,
       "padding": null,
       "right": null,
       "top": null,
       "visibility": null,
       "width": null
      }
     },
     "c043fe2719e74e1984eaa2a278c4fba2": {
      "model_module": "@jupyter-widgets/controls",
      "model_module_version": "1.5.0",
      "model_name": "HBoxModel",
      "state": {
       "_dom_classes": [],
       "_model_module": "@jupyter-widgets/controls",
       "_model_module_version": "1.5.0",
       "_model_name": "HBoxModel",
       "_view_count": null,
       "_view_module": "@jupyter-widgets/controls",
       "_view_module_version": "1.5.0",
       "_view_name": "HBoxView",
       "box_style": "",
       "children": [
        "IPY_MODEL_65e7b238750c4c44b891c28aaccacc1a",
        "IPY_MODEL_dd174878aae0415bae2d99db79ddd8bc",
        "IPY_MODEL_e3a68442787f4f01b0050fcd6b300f0f"
       ],
       "layout": "IPY_MODEL_c0a420f248dc43ff93154933a3c849a7"
      }
     },
     "c0a420f248dc43ff93154933a3c849a7": {
      "model_module": "@jupyter-widgets/base",
      "model_module_version": "1.2.0",
      "model_name": "LayoutModel",
      "state": {
       "_model_module": "@jupyter-widgets/base",
       "_model_module_version": "1.2.0",
       "_model_name": "LayoutModel",
       "_view_count": null,
       "_view_module": "@jupyter-widgets/base",
       "_view_module_version": "1.2.0",
       "_view_name": "LayoutView",
       "align_content": null,
       "align_items": null,
       "align_self": null,
       "border": null,
       "bottom": null,
       "display": null,
       "flex": null,
       "flex_flow": null,
       "grid_area": null,
       "grid_auto_columns": null,
       "grid_auto_flow": null,
       "grid_auto_rows": null,
       "grid_column": null,
       "grid_gap": null,
       "grid_row": null,
       "grid_template_areas": null,
       "grid_template_columns": null,
       "grid_template_rows": null,
       "height": null,
       "justify_content": null,
       "justify_items": null,
       "left": null,
       "margin": null,
       "max_height": null,
       "max_width": null,
       "min_height": null,
       "min_width": null,
       "object_fit": null,
       "object_position": null,
       "order": null,
       "overflow": null,
       "overflow_x": null,
       "overflow_y": null,
       "padding": null,
       "right": null,
       "top": null,
       "visibility": null,
       "width": null
      }
     },
     "c978b5e9499048e984bbe2a1ac7f4a39": {
      "model_module": "@jupyter-widgets/controls",
      "model_module_version": "1.5.0",
      "model_name": "ProgressStyleModel",
      "state": {
       "_model_module": "@jupyter-widgets/controls",
       "_model_module_version": "1.5.0",
       "_model_name": "ProgressStyleModel",
       "_view_count": null,
       "_view_module": "@jupyter-widgets/base",
       "_view_module_version": "1.2.0",
       "_view_name": "StyleView",
       "bar_color": null,
       "description_width": ""
      }
     },
     "d42fbbeca6664a8481be028bee5b9b2d": {
      "model_module": "@jupyter-widgets/controls",
      "model_module_version": "1.5.0",
      "model_name": "DescriptionStyleModel",
      "state": {
       "_model_module": "@jupyter-widgets/controls",
       "_model_module_version": "1.5.0",
       "_model_name": "DescriptionStyleModel",
       "_view_count": null,
       "_view_module": "@jupyter-widgets/base",
       "_view_module_version": "1.2.0",
       "_view_name": "StyleView",
       "description_width": ""
      }
     },
     "d43464a3e931417eb5ee4b8845dc0f5e": {
      "model_module": "@jupyter-widgets/controls",
      "model_module_version": "1.5.0",
      "model_name": "HTMLModel",
      "state": {
       "_dom_classes": [],
       "_model_module": "@jupyter-widgets/controls",
       "_model_module_version": "1.5.0",
       "_model_name": "HTMLModel",
       "_view_count": null,
       "_view_module": "@jupyter-widgets/controls",
       "_view_module_version": "1.5.0",
       "_view_name": "HTMLView",
       "description": "",
       "description_tooltip": null,
       "layout": "IPY_MODEL_81b5319d3a1d405caed167d1c5d27216",
       "placeholder": "​",
       "style": "IPY_MODEL_4c54b783b7b74de68eb2217dd9787c63",
       "value": " 5/5 [11:50&lt;00:00, 142.00s/it]"
      }
     },
     "d577535882d44493a27153d4d44d119f": {
      "model_module": "@jupyter-widgets/controls",
      "model_module_version": "1.5.0",
      "model_name": "FloatProgressModel",
      "state": {
       "_dom_classes": [],
       "_model_module": "@jupyter-widgets/controls",
       "_model_module_version": "1.5.0",
       "_model_name": "FloatProgressModel",
       "_view_count": null,
       "_view_module": "@jupyter-widgets/controls",
       "_view_module_version": "1.5.0",
       "_view_name": "ProgressView",
       "bar_style": "success",
       "description": "",
       "description_tooltip": null,
       "layout": "IPY_MODEL_7a4030a780d342ebb559c4cb3ec034e2",
       "max": 5.0,
       "min": 0.0,
       "orientation": "horizontal",
       "style": "IPY_MODEL_f62b6be26c6747ceae54a6c4cd8f756c",
       "value": 5.0
      }
     },
     "d88aa77d906f43cd9324327abaccba15": {
      "model_module": "@jupyter-widgets/controls",
      "model_module_version": "1.5.0",
      "model_name": "DescriptionStyleModel",
      "state": {
       "_model_module": "@jupyter-widgets/controls",
       "_model_module_version": "1.5.0",
       "_model_name": "DescriptionStyleModel",
       "_view_count": null,
       "_view_module": "@jupyter-widgets/base",
       "_view_module_version": "1.2.0",
       "_view_name": "StyleView",
       "description_width": ""
      }
     },
     "d8e1d012a24b4a1e8852864f114fd888": {
      "model_module": "@jupyter-widgets/controls",
      "model_module_version": "1.5.0",
      "model_name": "HBoxModel",
      "state": {
       "_dom_classes": [],
       "_model_module": "@jupyter-widgets/controls",
       "_model_module_version": "1.5.0",
       "_model_name": "HBoxModel",
       "_view_count": null,
       "_view_module": "@jupyter-widgets/controls",
       "_view_module_version": "1.5.0",
       "_view_name": "HBoxView",
       "box_style": "",
       "children": [
        "IPY_MODEL_9cc3b13972f244d9adf0de6f7150145b",
        "IPY_MODEL_d577535882d44493a27153d4d44d119f",
        "IPY_MODEL_8b4efcc8db6942efa36cbe1140ac6744"
       ],
       "layout": "IPY_MODEL_a845f1f8b7fc4a8792e3285e644b2591"
      }
     },
     "dd174878aae0415bae2d99db79ddd8bc": {
      "model_module": "@jupyter-widgets/controls",
      "model_module_version": "1.5.0",
      "model_name": "FloatProgressModel",
      "state": {
       "_dom_classes": [],
       "_model_module": "@jupyter-widgets/controls",
       "_model_module_version": "1.5.0",
       "_model_name": "FloatProgressModel",
       "_view_count": null,
       "_view_module": "@jupyter-widgets/controls",
       "_view_module_version": "1.5.0",
       "_view_name": "ProgressView",
       "bar_style": "success",
       "description": "",
       "description_tooltip": null,
       "layout": "IPY_MODEL_deb580017a914c12b724c27c6d6aaef0",
       "max": 5.0,
       "min": 0.0,
       "orientation": "horizontal",
       "style": "IPY_MODEL_47844743b4e0464899a1977a528acf1b",
       "value": 5.0
      }
     },
     "deb580017a914c12b724c27c6d6aaef0": {
      "model_module": "@jupyter-widgets/base",
      "model_module_version": "1.2.0",
      "model_name": "LayoutModel",
      "state": {
       "_model_module": "@jupyter-widgets/base",
       "_model_module_version": "1.2.0",
       "_model_name": "LayoutModel",
       "_view_count": null,
       "_view_module": "@jupyter-widgets/base",
       "_view_module_version": "1.2.0",
       "_view_name": "LayoutView",
       "align_content": null,
       "align_items": null,
       "align_self": null,
       "border": null,
       "bottom": null,
       "display": null,
       "flex": null,
       "flex_flow": null,
       "grid_area": null,
       "grid_auto_columns": null,
       "grid_auto_flow": null,
       "grid_auto_rows": null,
       "grid_column": null,
       "grid_gap": null,
       "grid_row": null,
       "grid_template_areas": null,
       "grid_template_columns": null,
       "grid_template_rows": null,
       "height": null,
       "justify_content": null,
       "justify_items": null,
       "left": null,
       "margin": null,
       "max_height": null,
       "max_width": null,
       "min_height": null,
       "min_width": null,
       "object_fit": null,
       "object_position": null,
       "order": null,
       "overflow": null,
       "overflow_x": null,
       "overflow_y": null,
       "padding": null,
       "right": null,
       "top": null,
       "visibility": null,
       "width": null
      }
     },
     "e13cc0ae09654fb098554ef23b4a4cf5": {
      "model_module": "@jupyter-widgets/base",
      "model_module_version": "1.2.0",
      "model_name": "LayoutModel",
      "state": {
       "_model_module": "@jupyter-widgets/base",
       "_model_module_version": "1.2.0",
       "_model_name": "LayoutModel",
       "_view_count": null,
       "_view_module": "@jupyter-widgets/base",
       "_view_module_version": "1.2.0",
       "_view_name": "LayoutView",
       "align_content": null,
       "align_items": null,
       "align_self": null,
       "border": null,
       "bottom": null,
       "display": null,
       "flex": null,
       "flex_flow": null,
       "grid_area": null,
       "grid_auto_columns": null,
       "grid_auto_flow": null,
       "grid_auto_rows": null,
       "grid_column": null,
       "grid_gap": null,
       "grid_row": null,
       "grid_template_areas": null,
       "grid_template_columns": null,
       "grid_template_rows": null,
       "height": null,
       "justify_content": null,
       "justify_items": null,
       "left": null,
       "margin": null,
       "max_height": null,
       "max_width": null,
       "min_height": null,
       "min_width": null,
       "object_fit": null,
       "object_position": null,
       "order": null,
       "overflow": null,
       "overflow_x": null,
       "overflow_y": null,
       "padding": null,
       "right": null,
       "top": null,
       "visibility": null,
       "width": null
      }
     },
     "e3a68442787f4f01b0050fcd6b300f0f": {
      "model_module": "@jupyter-widgets/controls",
      "model_module_version": "1.5.0",
      "model_name": "HTMLModel",
      "state": {
       "_dom_classes": [],
       "_model_module": "@jupyter-widgets/controls",
       "_model_module_version": "1.5.0",
       "_model_name": "HTMLModel",
       "_view_count": null,
       "_view_module": "@jupyter-widgets/controls",
       "_view_module_version": "1.5.0",
       "_view_name": "HTMLView",
       "description": "",
       "description_tooltip": null,
       "layout": "IPY_MODEL_37d86747a58347769f6d638b454233e9",
       "placeholder": "​",
       "style": "IPY_MODEL_d88aa77d906f43cd9324327abaccba15",
       "value": " 5/5 [01:34&lt;00:00, 18.84s/it]"
      }
     },
     "e5c2b8fbafb347a19cd62d7e1c738405": {
      "model_module": "@jupyter-widgets/controls",
      "model_module_version": "1.5.0",
      "model_name": "FloatProgressModel",
      "state": {
       "_dom_classes": [],
       "_model_module": "@jupyter-widgets/controls",
       "_model_module_version": "1.5.0",
       "_model_name": "FloatProgressModel",
       "_view_count": null,
       "_view_module": "@jupyter-widgets/controls",
       "_view_module_version": "1.5.0",
       "_view_name": "ProgressView",
       "bar_style": "success",
       "description": "",
       "description_tooltip": null,
       "layout": "IPY_MODEL_add88d8d8eb8411f95acae23a8107534",
       "max": 213296.0,
       "min": 0.0,
       "orientation": "horizontal",
       "style": "IPY_MODEL_f8db5453aa7a4cd79b0ae17cc05d793d",
       "value": 213296.0
      }
     },
     "e80f09f7b76b4bdeb54726049aced819": {
      "model_module": "@jupyter-widgets/controls",
      "model_module_version": "1.5.0",
      "model_name": "HTMLModel",
      "state": {
       "_dom_classes": [],
       "_model_module": "@jupyter-widgets/controls",
       "_model_module_version": "1.5.0",
       "_model_name": "HTMLModel",
       "_view_count": null,
       "_view_module": "@jupyter-widgets/controls",
       "_view_module_version": "1.5.0",
       "_view_name": "HTMLView",
       "description": "",
       "description_tooltip": null,
       "layout": "IPY_MODEL_63df19c54eb846c39581a53161c41b62",
       "placeholder": "​",
       "style": "IPY_MODEL_2701396c62b344d2ac4b6777542cb830",
       "value": "100%"
      }
     },
     "f15538fe9354459ab89daa3392664a87": {
      "model_module": "@jupyter-widgets/base",
      "model_module_version": "1.2.0",
      "model_name": "LayoutModel",
      "state": {
       "_model_module": "@jupyter-widgets/base",
       "_model_module_version": "1.2.0",
       "_model_name": "LayoutModel",
       "_view_count": null,
       "_view_module": "@jupyter-widgets/base",
       "_view_module_version": "1.2.0",
       "_view_name": "LayoutView",
       "align_content": null,
       "align_items": null,
       "align_self": null,
       "border": null,
       "bottom": null,
       "display": null,
       "flex": null,
       "flex_flow": null,
       "grid_area": null,
       "grid_auto_columns": null,
       "grid_auto_flow": null,
       "grid_auto_rows": null,
       "grid_column": null,
       "grid_gap": null,
       "grid_row": null,
       "grid_template_areas": null,
       "grid_template_columns": null,
       "grid_template_rows": null,
       "height": null,
       "justify_content": null,
       "justify_items": null,
       "left": null,
       "margin": null,
       "max_height": null,
       "max_width": null,
       "min_height": null,
       "min_width": null,
       "object_fit": null,
       "object_position": null,
       "order": null,
       "overflow": null,
       "overflow_x": null,
       "overflow_y": null,
       "padding": null,
       "right": null,
       "top": null,
       "visibility": null,
       "width": null
      }
     },
     "f21ce70cc8e44621b9b2b7c9051d1a4d": {
      "model_module": "@jupyter-widgets/base",
      "model_module_version": "1.2.0",
      "model_name": "LayoutModel",
      "state": {
       "_model_module": "@jupyter-widgets/base",
       "_model_module_version": "1.2.0",
       "_model_name": "LayoutModel",
       "_view_count": null,
       "_view_module": "@jupyter-widgets/base",
       "_view_module_version": "1.2.0",
       "_view_name": "LayoutView",
       "align_content": null,
       "align_items": null,
       "align_self": null,
       "border": null,
       "bottom": null,
       "display": null,
       "flex": null,
       "flex_flow": null,
       "grid_area": null,
       "grid_auto_columns": null,
       "grid_auto_flow": null,
       "grid_auto_rows": null,
       "grid_column": null,
       "grid_gap": null,
       "grid_row": null,
       "grid_template_areas": null,
       "grid_template_columns": null,
       "grid_template_rows": null,
       "height": null,
       "justify_content": null,
       "justify_items": null,
       "left": null,
       "margin": null,
       "max_height": null,
       "max_width": null,
       "min_height": null,
       "min_width": null,
       "object_fit": null,
       "object_position": null,
       "order": null,
       "overflow": null,
       "overflow_x": null,
       "overflow_y": null,
       "padding": null,
       "right": null,
       "top": null,
       "visibility": null,
       "width": null
      }
     },
     "f3cd8572b1824112b814ac6b8e6ff402": {
      "model_module": "@jupyter-widgets/controls",
      "model_module_version": "1.5.0",
      "model_name": "DescriptionStyleModel",
      "state": {
       "_model_module": "@jupyter-widgets/controls",
       "_model_module_version": "1.5.0",
       "_model_name": "DescriptionStyleModel",
       "_view_count": null,
       "_view_module": "@jupyter-widgets/base",
       "_view_module_version": "1.2.0",
       "_view_name": "StyleView",
       "description_width": ""
      }
     },
     "f60534bf2560408f9f280ca69ba66438": {
      "model_module": "@jupyter-widgets/controls",
      "model_module_version": "1.5.0",
      "model_name": "DescriptionStyleModel",
      "state": {
       "_model_module": "@jupyter-widgets/controls",
       "_model_module_version": "1.5.0",
       "_model_name": "DescriptionStyleModel",
       "_view_count": null,
       "_view_module": "@jupyter-widgets/base",
       "_view_module_version": "1.2.0",
       "_view_name": "StyleView",
       "description_width": ""
      }
     },
     "f62b6be26c6747ceae54a6c4cd8f756c": {
      "model_module": "@jupyter-widgets/controls",
      "model_module_version": "1.5.0",
      "model_name": "ProgressStyleModel",
      "state": {
       "_model_module": "@jupyter-widgets/controls",
       "_model_module_version": "1.5.0",
       "_model_name": "ProgressStyleModel",
       "_view_count": null,
       "_view_module": "@jupyter-widgets/base",
       "_view_module_version": "1.2.0",
       "_view_name": "StyleView",
       "bar_color": null,
       "description_width": ""
      }
     },
     "f8054b0b73814f49a1a7f528fc47bfa5": {
      "model_module": "@jupyter-widgets/base",
      "model_module_version": "1.2.0",
      "model_name": "LayoutModel",
      "state": {
       "_model_module": "@jupyter-widgets/base",
       "_model_module_version": "1.2.0",
       "_model_name": "LayoutModel",
       "_view_count": null,
       "_view_module": "@jupyter-widgets/base",
       "_view_module_version": "1.2.0",
       "_view_name": "LayoutView",
       "align_content": null,
       "align_items": null,
       "align_self": null,
       "border": null,
       "bottom": null,
       "display": null,
       "flex": null,
       "flex_flow": null,
       "grid_area": null,
       "grid_auto_columns": null,
       "grid_auto_flow": null,
       "grid_auto_rows": null,
       "grid_column": null,
       "grid_gap": null,
       "grid_row": null,
       "grid_template_areas": null,
       "grid_template_columns": null,
       "grid_template_rows": null,
       "height": null,
       "justify_content": null,
       "justify_items": null,
       "left": null,
       "margin": null,
       "max_height": null,
       "max_width": null,
       "min_height": null,
       "min_width": null,
       "object_fit": null,
       "object_position": null,
       "order": null,
       "overflow": null,
       "overflow_x": null,
       "overflow_y": null,
       "padding": null,
       "right": null,
       "top": null,
       "visibility": null,
       "width": null
      }
     },
     "f8db5453aa7a4cd79b0ae17cc05d793d": {
      "model_module": "@jupyter-widgets/controls",
      "model_module_version": "1.5.0",
      "model_name": "ProgressStyleModel",
      "state": {
       "_model_module": "@jupyter-widgets/controls",
       "_model_module_version": "1.5.0",
       "_model_name": "ProgressStyleModel",
       "_view_count": null,
       "_view_module": "@jupyter-widgets/base",
       "_view_module_version": "1.2.0",
       "_view_name": "StyleView",
       "bar_color": null,
       "description_width": ""
      }
     },
     "f983a1600ec7441697657bcbada7b6a5": {
      "model_module": "@jupyter-widgets/controls",
      "model_module_version": "1.5.0",
      "model_name": "HTMLModel",
      "state": {
       "_dom_classes": [],
       "_model_module": "@jupyter-widgets/controls",
       "_model_module_version": "1.5.0",
       "_model_name": "HTMLModel",
       "_view_count": null,
       "_view_module": "@jupyter-widgets/controls",
       "_view_module_version": "1.5.0",
       "_view_name": "HTMLView",
       "description": "",
       "description_tooltip": null,
       "layout": "IPY_MODEL_a494ffd101e14b949ee488a55d2b8f1f",
       "placeholder": "​",
       "style": "IPY_MODEL_06fdd8065ef34f1eb4faffd962b3d230",
       "value": " 213296/213296 [30:14&lt;00:00, 115.97it/s]"
      }
     }
    },
    "version_major": 2,
    "version_minor": 0
   }
  }
 },
 "nbformat": 4,
 "nbformat_minor": 4
}
